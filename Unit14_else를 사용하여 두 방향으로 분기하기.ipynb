{
 "cells": [
  {
   "cell_type": "code",
   "execution_count": null,
   "id": "3ce8132d",
   "metadata": {},
   "outputs": [],
   "source": [
    "14.7  심사문제: 합격 여부 판단하기\n",
    "    \n",
    "표준 입력으로 국어, 영어, 수학, 과학 점수가 입력됩니다. 여기서 네 과목의 평균 점수가 80점 이상일 때 합격 이라고 정했습니다.\n",
    "평균 점수에 따라 '합격', '불합격'을 출력하는 프로그램을 만드세요(input에서 안내 문자열은 출력하지 않아야 합니다). \n",
    "단, 점수는 0점부터 100점까지만 입력받을 수 있으며 범위를 벗어났다면 '잘못된 점수'를 출력하고 합격, 불합격 여부는 출력하지 않아야 합니다.\n",
    "\n"
   ]
  },
  {
   "cell_type": "code",
   "execution_count": 58,
   "id": "deab1a72",
   "metadata": {},
   "outputs": [
    {
     "name": "stdout",
     "output_type": "stream",
     "text": [
      "80 90 100 90\n"
     ]
    }
   ],
   "source": [
    "x, y, z, d = map(int, input().split())\n",
    "\n",
    "x = int(x)\n",
    "y = int(y)\n",
    "z = int(z)\n",
    "d = int(d)\n",
    "\n",
    "avg = (x+y+z+d)/4\n",
    "\n",
    "if avg >=80:\n",
    "    grade = '합격'\n",
    "    \n",
    "if avg < 80:\n",
    "    grade = '불합격'\n",
    "\n",
    "if avg < 0:\n",
    "    grade = '잘못된 점수'\n",
    "    \n",
    "if avg > 100:\n",
    "    grade = '잘못된 점수'\n",
    "    print(grade)\n",
    "   "
   ]
  },
  {
   "cell_type": "code",
   "execution_count": 61,
   "id": "4212a1ca",
   "metadata": {},
   "outputs": [
    {
     "name": "stdout",
     "output_type": "stream",
     "text": [
      "100 10 50 80\n",
      "불합격\n"
     ]
    }
   ],
   "source": [
    "x, y, z, d = map(int, input().split())\n",
    "\n",
    "x = int(x)\n",
    "y = int(y)\n",
    "z = int(z)\n",
    "d = int(d)\n",
    "\n",
    "avg = (x+y+z+d)/4\n",
    "\n",
    "if avg >=80:\n",
    "    print('합격')\n",
    "    \n",
    "if avg < 80:\n",
    "    print('불합격')\n",
    "\n",
    "if avg < 0:\n",
    "    print('잘못된 점수')\n",
    "    \n",
    "if avg > 100:\n",
    "    print('잘못된 점수')\n",
    "   "
   ]
  },
  {
   "cell_type": "code",
   "execution_count": 54,
   "id": "3054a1f7",
   "metadata": {},
   "outputs": [
    {
     "name": "stdout",
     "output_type": "stream",
     "text": [
      "100 106 100 80\n",
      "합격\n"
     ]
    }
   ],
   "source": [
    "x, y, z, d = map(int, input().split())\n",
    "\n",
    "x = int(x)\n",
    "y = int(y)\n",
    "z = int(z)\n",
    "d = int(d)\n",
    "\n",
    "avg = (x+y+z+d)/4\n",
    "\n",
    "if avg >= 80 and avg <= 100:\n",
    "    print('합격')\n",
    "    \n",
    "if avg < 80:\n",
    "    print('불합격')\n",
    "\n",
    "if avg < 0:\n",
    "    print('잘못된 점수')\n",
    "    \n",
    "if avg > 100:\n",
    "    print('잘못된 점수')\n",
    "   "
   ]
  },
  {
   "cell_type": "code",
   "execution_count": 57,
   "id": "bfbf60da",
   "metadata": {},
   "outputs": [
    {
     "name": "stdout",
     "output_type": "stream",
     "text": [
      "50 60 90 80\n"
     ]
    }
   ],
   "source": [
    "x, y, z, d = map(int, input().split())\n",
    "\n",
    "x = int(x)\n",
    "y = int(y)\n",
    "z = int(z)\n",
    "d = int(d)\n",
    "\n",
    "avg = (x+y+z+d)/4\n",
    "\n",
    "if avg >= 80 and avg <= 100:\n",
    "    print('합격')\n",
    "    \n",
    "    if avg < 80:\n",
    "        print('불합격')\n",
    "\n",
    "        if avg < 0:\n",
    "            print('잘못된 점수')\n",
    "    \n",
    "            if avg > 100:\n",
    "                print('잘못된 점수')"
   ]
  },
  {
   "cell_type": "code",
   "execution_count": 95,
   "id": "46269879",
   "metadata": {},
   "outputs": [
    {
     "name": "stdout",
     "output_type": "stream",
     "text": [
      "99 85 101 90\n",
      "잘못된 점수\n"
     ]
    }
   ],
   "source": [
    "x, y, z, d = input().split()\n",
    "\n",
    "x = int(x)\n",
    "y = int(y)\n",
    "z = int(z)\n",
    "d = int(d)\n",
    "\n",
    "if x < 0 or x > 100 or y < 0 or y > 100 or z < 0 or z > 100 or d < 0 or d > 100:\n",
    "    print('잘못된 점수')\n",
    "    \n",
    "else:\n",
    "    avg = (x+y+z+d)/4\n",
    "    if avg >= 80 and avg <= 100:\n",
    "        print('합격')\n",
    "    else:\n",
    "        print('불합격')"
   ]
  },
  {
   "cell_type": "code",
   "execution_count": null,
   "id": "c7936d11",
   "metadata": {},
   "outputs": [],
   "source": [
    "x, y, z, d = map(int, input().split())\n",
    "\n",
    "if x < 0 or x > 100 or y < 0 or y > 100 or z < 0 or z > 100 or d < 0 or d > 100:\n",
    "    print('잘못된 점수')\n",
    "else:\n",
    "    if avg < 80:\n",
    "    print('불합격')\n",
    "    \n",
    "    \n",
    "    \n",
    "    \n",
    "if avg < 80:\n",
    "    print('불합격')\n"
   ]
  },
  {
   "cell_type": "code",
   "execution_count": null,
   "id": "88843b63",
   "metadata": {},
   "outputs": [],
   "source": [
    "x, y, z, d = map(int, input().split())\n"
   ]
  },
  {
   "cell_type": "code",
   "execution_count": 73,
   "id": "ce598161",
   "metadata": {},
   "outputs": [
    {
     "name": "stdout",
     "output_type": "stream",
     "text": [
      "100\n"
     ]
    },
    {
     "ename": "TypeError",
     "evalue": "int() argument must be a string, a bytes-like object or a number, not 'tuple'",
     "output_type": "error",
     "traceback": [
      "\u001b[1;31m---------------------------------------------------------------------------\u001b[0m",
      "\u001b[1;31mTypeError\u001b[0m                                 Traceback (most recent call last)",
      "\u001b[1;32m<ipython-input-73-eff03eed63f7>\u001b[0m in \u001b[0;36m<module>\u001b[1;34m\u001b[0m\n\u001b[0;32m      1\u001b[0m \u001b[0mx\u001b[0m \u001b[1;33m=\u001b[0m \u001b[0mint\u001b[0m\u001b[1;33m,\u001b[0m \u001b[0minput\u001b[0m\u001b[1;33m(\u001b[0m\u001b[1;33m)\u001b[0m\u001b[1;33m.\u001b[0m\u001b[0msplit\u001b[0m\u001b[1;33m(\u001b[0m\u001b[1;33m)\u001b[0m\u001b[1;33m\u001b[0m\u001b[1;33m\u001b[0m\u001b[0m\n\u001b[1;32m----> 2\u001b[1;33m \u001b[0mx\u001b[0m \u001b[1;33m=\u001b[0m \u001b[0mint\u001b[0m\u001b[1;33m(\u001b[0m\u001b[0mx\u001b[0m\u001b[1;33m)\u001b[0m\u001b[1;33m\u001b[0m\u001b[1;33m\u001b[0m\u001b[0m\n\u001b[0m\u001b[0;32m      3\u001b[0m \u001b[0mtype\u001b[0m\u001b[1;33m(\u001b[0m\u001b[0mx\u001b[0m\u001b[1;33m)\u001b[0m\u001b[1;33m\u001b[0m\u001b[1;33m\u001b[0m\u001b[0m\n",
      "\u001b[1;31mTypeError\u001b[0m: int() argument must be a string, a bytes-like object or a number, not 'tuple'"
     ]
    }
   ],
   "source": [
    "x = int,input().split()\n",
    "x = int(x)\n",
    "type(x)\n"
   ]
  },
  {
   "cell_type": "code",
   "execution_count": null,
   "id": "8bb3f6cf",
   "metadata": {},
   "outputs": [],
   "source": []
  },
  {
   "cell_type": "code",
   "execution_count": 70,
   "id": "cdad038c",
   "metadata": {},
   "outputs": [
    {
     "name": "stdout",
     "output_type": "stream",
     "text": [
      "잘못됨\n"
     ]
    }
   ],
   "source": [
    "x = 101\n",
    "\n",
    "if x > 100:\n",
    "    print('잘못됨')\n"
   ]
  },
  {
   "cell_type": "code",
   "execution_count": null,
   "id": "dafc4155",
   "metadata": {},
   "outputs": [],
   "source": []
  },
  {
   "cell_type": "code",
   "execution_count": null,
   "id": "fa0a4375",
   "metadata": {},
   "outputs": [],
   "source": []
  },
  {
   "cell_type": "code",
   "execution_count": null,
   "id": "19c7aa16",
   "metadata": {},
   "outputs": [],
   "source": []
  },
  {
   "cell_type": "code",
   "execution_count": 29,
   "id": "94b529f9",
   "metadata": {},
   "outputs": [
    {
     "name": "stdout",
     "output_type": "stream",
     "text": [
      "참\n"
     ]
    }
   ],
   "source": [
    "x = 10\n",
    "y = 20\n",
    "\n",
    "if x == 10 and y == 20:\n",
    "    print('참')\n",
    "else:\n",
    "    print('거짓')"
   ]
  },
  {
   "cell_type": "code",
   "execution_count": 30,
   "id": "4e2743f9",
   "metadata": {},
   "outputs": [
    {
     "name": "stdout",
     "output_type": "stream",
     "text": [
      "20보다 작은 양수입니다.\n"
     ]
    }
   ],
   "source": [
    "if x > 0:\n",
    "    if x <20:\n",
    "        print('20보다 작은 양수입니다.')"
   ]
  },
  {
   "cell_type": "code",
   "execution_count": 31,
   "id": "b6d3549a",
   "metadata": {},
   "outputs": [
    {
     "name": "stdout",
     "output_type": "stream",
     "text": [
      "20보다 작은 양수입니다.\n"
     ]
    }
   ],
   "source": [
    "if x > 0 and x < 20:\n",
    "    print('20보다 작은 양수입니다.')"
   ]
  },
  {
   "cell_type": "code",
   "execution_count": 32,
   "id": "6918ca75",
   "metadata": {},
   "outputs": [
    {
     "name": "stdout",
     "output_type": "stream",
     "text": [
      "20보다 작은 양수입니다.\n"
     ]
    }
   ],
   "source": [
    "if 0 < x <20:\n",
    "    print('20보다 작은 양수입니다.')"
   ]
  },
  {
   "cell_type": "code",
   "execution_count": null,
   "id": "4e62f75f",
   "metadata": {},
   "outputs": [],
   "source": []
  },
  {
   "cell_type": "code",
   "execution_count": null,
   "id": "722a7899",
   "metadata": {},
   "outputs": [],
   "source": []
  },
  {
   "cell_type": "code",
   "execution_count": null,
   "id": "7026b7b7",
   "metadata": {},
   "outputs": [],
   "source": []
  },
  {
   "cell_type": "code",
   "execution_count": null,
   "id": "2eae3a37",
   "metadata": {},
   "outputs": [],
   "source": []
  },
  {
   "cell_type": "code",
   "execution_count": null,
   "id": "b6d8148b",
   "metadata": {},
   "outputs": [],
   "source": []
  },
  {
   "cell_type": "code",
   "execution_count": null,
   "id": "8d4ac82a",
   "metadata": {},
   "outputs": [],
   "source": []
  },
  {
   "cell_type": "code",
   "execution_count": null,
   "id": "18a7bde9",
   "metadata": {},
   "outputs": [],
   "source": []
  },
  {
   "cell_type": "code",
   "execution_count": null,
   "id": "897e6687",
   "metadata": {},
   "outputs": [],
   "source": []
  },
  {
   "cell_type": "code",
   "execution_count": null,
   "id": "0273a1d0",
   "metadata": {},
   "outputs": [],
   "source": [
    "if 조건식:\n",
    "    코드1\n",
    "else:\n",
    "    코드2\n",
    "    "
   ]
  },
  {
   "cell_type": "code",
   "execution_count": 18,
   "id": "42a6c470",
   "metadata": {},
   "outputs": [
    {
     "name": "stdout",
     "output_type": "stream",
     "text": [
      "10이 아닙니다.\n"
     ]
    }
   ],
   "source": [
    "x = 5\n",
    "if x == 10: \n",
    "    print('10입니다.')\n",
    "else:\n",
    "    print('10이 아닙니다.')"
   ]
  },
  {
   "cell_type": "code",
   "execution_count": 19,
   "id": "9e2d9034",
   "metadata": {},
   "outputs": [
    {
     "name": "stdout",
     "output_type": "stream",
     "text": [
      "50\n",
      "10이 아닙니다.\n"
     ]
    }
   ],
   "source": [
    "x = int(input())\n",
    "if x == 10: \n",
    "    print('10입니다.')\n",
    "else:\n",
    "    print('10이 아닙니다.')"
   ]
  },
  {
   "cell_type": "code",
   "execution_count": 20,
   "id": "5d5cf7af",
   "metadata": {},
   "outputs": [
    {
     "name": "stdout",
     "output_type": "stream",
     "text": [
      "60\n",
      "10이 아닙니다.\n"
     ]
    }
   ],
   "source": [
    "x = int(input())\n",
    "if x == 10: \n",
    "    print('10입니다.')\n",
    "else:\n",
    "    print('10이 아닙니다.')"
   ]
  },
  {
   "cell_type": "code",
   "execution_count": null,
   "id": "0e7efb34",
   "metadata": {},
   "outputs": [],
   "source": []
  },
  {
   "cell_type": "code",
   "execution_count": 25,
   "id": "08d1a92d",
   "metadata": {},
   "outputs": [
    {
     "name": "stdout",
     "output_type": "stream",
     "text": [
      "참\n",
      "거짓\n",
      "거짓\n"
     ]
    }
   ],
   "source": [
    "if True:\n",
    "    print('참')\n",
    "else:\n",
    "    print('거짓')\n",
    "\n",
    "if False:\n",
    "    print('참')\n",
    "else:\n",
    "    print('거짓')\n",
    "\n",
    "if None:\n",
    "    print('참')\n",
    "else:\n",
    "    print('거짓')"
   ]
  },
  {
   "cell_type": "code",
   "execution_count": 26,
   "id": "8ea5f48b",
   "metadata": {},
   "outputs": [
    {
     "name": "stdout",
     "output_type": "stream",
     "text": [
      "거짓\n",
      "참\n",
      "참\n",
      "참\n",
      "참\n"
     ]
    }
   ],
   "source": [
    "if 0:\n",
    "    print('참')\n",
    "else:\n",
    "    print('거짓')\n",
    "\n",
    "if 1:\n",
    "    print('참')\n",
    "else:\n",
    "    print('거짓')\n",
    "    \n",
    "if 0x1F:\n",
    "    print('참')\n",
    "else:\n",
    "    print('거짓')\n",
    "\n",
    "if 0b1000:\n",
    "    print('참')\n",
    "else:\n",
    "    print('거짓')\n",
    "\n",
    "if 13.5:\n",
    "    print('참')\n",
    "else:\n",
    "    print('거짓')\n",
    "    \n",
    "    "
   ]
  },
  {
   "cell_type": "code",
   "execution_count": 27,
   "id": "7250aea5",
   "metadata": {},
   "outputs": [
    {
     "name": "stdout",
     "output_type": "stream",
     "text": [
      "참\n"
     ]
    }
   ],
   "source": [
    "if 'Hello':\n",
    "    print('참')\n",
    "else:\n",
    "    print('거짓')"
   ]
  },
  {
   "cell_type": "code",
   "execution_count": 28,
   "id": "46e45ad7",
   "metadata": {},
   "outputs": [
    {
     "name": "stdout",
     "output_type": "stream",
     "text": [
      "거짓\n"
     ]
    }
   ],
   "source": [
    "if '':\n",
    "    print('참')\n",
    "else:\n",
    "    print('거짓')"
   ]
  },
  {
   "cell_type": "code",
   "execution_count": null,
   "id": "2fc9d4be",
   "metadata": {},
   "outputs": [],
   "source": []
  },
  {
   "cell_type": "code",
   "execution_count": null,
   "id": "48f05446",
   "metadata": {},
   "outputs": [],
   "source": []
  },
  {
   "cell_type": "code",
   "execution_count": null,
   "id": "61752288",
   "metadata": {},
   "outputs": [],
   "source": []
  },
  {
   "cell_type": "code",
   "execution_count": null,
   "id": "63836c14",
   "metadata": {},
   "outputs": [],
   "source": []
  },
  {
   "cell_type": "code",
   "execution_count": null,
   "id": "35b45cc0",
   "metadata": {},
   "outputs": [],
   "source": []
  },
  {
   "cell_type": "code",
   "execution_count": null,
   "id": "1199f200",
   "metadata": {},
   "outputs": [],
   "source": []
  }
 ],
 "metadata": {
  "kernelspec": {
   "display_name": "Python 3",
   "language": "python",
   "name": "python3"
  },
  "language_info": {
   "codemirror_mode": {
    "name": "ipython",
    "version": 3
   },
   "file_extension": ".py",
   "mimetype": "text/x-python",
   "name": "python",
   "nbconvert_exporter": "python",
   "pygments_lexer": "ipython3",
   "version": "3.8.8"
  }
 },
 "nbformat": 4,
 "nbformat_minor": 5
}
