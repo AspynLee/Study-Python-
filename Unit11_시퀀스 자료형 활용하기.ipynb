{
 "cells": [
  {
   "cell_type": "code",
   "execution_count": 1,
   "id": "80aece19",
   "metadata": {},
   "outputs": [
    {
     "ename": "SyntaxError",
     "evalue": "invalid syntax (<ipython-input-1-bb535c0ecf8f>, line 1)",
     "output_type": "error",
     "traceback": [
      "\u001b[1;36m  File \u001b[1;32m\"<ipython-input-1-bb535c0ecf8f>\"\u001b[1;36m, line \u001b[1;32m1\u001b[0m\n\u001b[1;33m    연속적인 값. (sequence)\u001b[0m\n\u001b[1;37m         ^\u001b[0m\n\u001b[1;31mSyntaxError\u001b[0m\u001b[1;31m:\u001b[0m invalid syntax\n"
     ]
    }
   ],
   "source": [
    "연속적인 값. (sequence)\n",
    "리스트, 튜플, range, 문자열(str) 처럼 값이 연속적으로 이어진 자료형을 시퀀스 자료형 (sequence types)이라고 부른다.\n",
    "\n",
    "시퀀스 자료형으로 만든 객체를 시퀀스 객체라고 하며, \n",
    "시퀀스 객체에 들어있는 각 값을 요소(element)라고 부른다.\n"
   ]
  },
  {
   "cell_type": "code",
   "execution_count": 2,
   "id": "f3acdb26",
   "metadata": {},
   "outputs": [
    {
     "ename": "SyntaxError",
     "evalue": "invalid syntax (<ipython-input-2-352cc845ce23>, line 1)",
     "output_type": "error",
     "traceback": [
      "\u001b[1;36m  File \u001b[1;32m\"<ipython-input-2-352cc845ce23>\"\u001b[1;36m, line \u001b[1;32m1\u001b[0m\n\u001b[1;33m    11.1.1 특정 값이 있는지 확인하기\u001b[0m\n\u001b[1;37m        ^\u001b[0m\n\u001b[1;31mSyntaxError\u001b[0m\u001b[1;31m:\u001b[0m invalid syntax\n"
     ]
    }
   ],
   "source": [
    "11.1.1 특정 값이 있는지 확인하기\n",
    "리스트 a에서 30과 100이 있는지 확인한다.\n",
    "시퀀스 객체에 in 연산자를 사용했을 때 특정 값이 있으면 Ture, 없으면 False가 나온다.\n",
    "\n",
    "값 in 시퀀스객체\n",
    "값 not in 시퀀스객체\n",
    "\n",
    "\n",
    "a = [0, 90]\n",
    "30 in a"
   ]
  },
  {
   "cell_type": "code",
   "execution_count": 3,
   "id": "0f5d6ef6",
   "metadata": {},
   "outputs": [
    {
     "data": {
      "text/plain": [
       "False"
      ]
     },
     "execution_count": 3,
     "metadata": {},
     "output_type": "execute_result"
    }
   ],
   "source": [
    "\n",
    "a = [0, 90]\n",
    "30 in a"
   ]
  },
  {
   "cell_type": "code",
   "execution_count": 4,
   "id": "17333907",
   "metadata": {},
   "outputs": [
    {
     "data": {
      "text/plain": [
       "True"
      ]
     },
     "execution_count": 4,
     "metadata": {},
     "output_type": "execute_result"
    }
   ],
   "source": [
    "a = [10, 20, 30, 40, 50, 60]\n",
    "30 in a"
   ]
  },
  {
   "cell_type": "code",
   "execution_count": 5,
   "id": "90afc73f",
   "metadata": {},
   "outputs": [],
   "source": [
    "a = [10, 20, 30, 40, 50, 60]"
   ]
  },
  {
   "cell_type": "code",
   "execution_count": 6,
   "id": "09932771",
   "metadata": {},
   "outputs": [
    {
     "data": {
      "text/plain": [
       "True"
      ]
     },
     "execution_count": 6,
     "metadata": {},
     "output_type": "execute_result"
    }
   ],
   "source": [
    "100 not in a"
   ]
  },
  {
   "cell_type": "code",
   "execution_count": 7,
   "id": "8381b174",
   "metadata": {},
   "outputs": [
    {
     "data": {
      "text/plain": [
       "False"
      ]
     },
     "execution_count": 7,
     "metadata": {},
     "output_type": "execute_result"
    }
   ],
   "source": [
    "40 not in a"
   ]
  },
  {
   "cell_type": "code",
   "execution_count": 8,
   "id": "53543486",
   "metadata": {},
   "outputs": [
    {
     "ename": "SyntaxError",
     "evalue": "invalid syntax (<ipython-input-8-1ef6485e0243>, line 1)",
     "output_type": "error",
     "traceback": [
      "\u001b[1;36m  File \u001b[1;32m\"<ipython-input-8-1ef6485e0243>\"\u001b[1;36m, line \u001b[1;32m1\u001b[0m\n\u001b[1;33m    11.1.2 시퀀스 객체 연결하기\u001b[0m\n\u001b[1;37m        ^\u001b[0m\n\u001b[1;31mSyntaxError\u001b[0m\u001b[1;31m:\u001b[0m invalid syntax\n"
     ]
    }
   ],
   "source": [
    "11.1.2 시퀀스 객체 연결하기\n",
    "\n",
    "시퀀스 객체는 + 연산자를 사용하여 객체를 서로 연결하여 새 객체를 만들 수 있다.\n",
    "\n",
    "시퀀스객체1 + 시퀀스객체2\n",
    "\n",
    "단, 시퀀스 자료형 중에서 range는 + 연산자로 객체를 연결할 수 없습니다.\n",
    "이때는 range를 리스트 또는 튜플로 만들어서 연결하면 된다.\n",
    "\n"
   ]
  },
  {
   "cell_type": "code",
   "execution_count": 9,
   "id": "e1cbb609",
   "metadata": {},
   "outputs": [
    {
     "data": {
      "text/plain": [
       "[0, 10, 20, 30, 40, 50, 60, 70]"
      ]
     },
     "execution_count": 9,
     "metadata": {},
     "output_type": "execute_result"
    }
   ],
   "source": [
    "x = [0, 10, 20, 30]\n",
    "y = [40, 50, 60, 70]\n",
    "x+y"
   ]
  },
  {
   "cell_type": "code",
   "execution_count": 10,
   "id": "e814b695",
   "metadata": {},
   "outputs": [
    {
     "ename": "TypeError",
     "evalue": "unsupported operand type(s) for +: 'range' and 'range'",
     "output_type": "error",
     "traceback": [
      "\u001b[1;31m---------------------------------------------------------------------------\u001b[0m",
      "\u001b[1;31mTypeError\u001b[0m                                 Traceback (most recent call last)",
      "\u001b[1;32m<ipython-input-10-8aa0517a26ec>\u001b[0m in \u001b[0;36m<module>\u001b[1;34m\u001b[0m\n\u001b[1;32m----> 1\u001b[1;33m \u001b[0mrange\u001b[0m\u001b[1;33m(\u001b[0m\u001b[1;36m0\u001b[0m\u001b[1;33m,\u001b[0m \u001b[1;36m10\u001b[0m\u001b[1;33m)\u001b[0m \u001b[1;33m+\u001b[0m \u001b[0mrange\u001b[0m\u001b[1;33m(\u001b[0m\u001b[1;36m10\u001b[0m\u001b[1;33m,\u001b[0m \u001b[1;36m20\u001b[0m\u001b[1;33m)\u001b[0m \u001b[1;31m# range는 + 연산자로 객체를 연결할 수 없습니다.\u001b[0m\u001b[1;33m\u001b[0m\u001b[1;33m\u001b[0m\u001b[0m\n\u001b[0m",
      "\u001b[1;31mTypeError\u001b[0m: unsupported operand type(s) for +: 'range' and 'range'"
     ]
    }
   ],
   "source": [
    "range(0, 10) + range(10, 20) # range는 + 연산자로 객체를 연결할 수 없습니다."
   ]
  },
  {
   "cell_type": "code",
   "execution_count": null,
   "id": "0d03e40e",
   "metadata": {},
   "outputs": [],
   "source": [
    "list(range(0,10)) + list(range(10,20))"
   ]
  },
  {
   "cell_type": "code",
   "execution_count": null,
   "id": "4f8db70e",
   "metadata": {},
   "outputs": [],
   "source": [
    "tuple(range(0,10)) + tuple(range(10,20))"
   ]
  },
  {
   "cell_type": "code",
   "execution_count": 11,
   "id": "19b8ffd0",
   "metadata": {},
   "outputs": [
    {
     "ename": "SyntaxError",
     "evalue": "invalid syntax (<ipython-input-11-bc01f3cfcf17>, line 1)",
     "output_type": "error",
     "traceback": [
      "\u001b[1;36m  File \u001b[1;32m\"<ipython-input-11-bc01f3cfcf17>\"\u001b[1;36m, line \u001b[1;32m1\u001b[0m\n\u001b[1;33m    문자열은 + 연산자로 여러 문자열을 연결 할 수 있다.\u001b[0m\n\u001b[1;37m                ^\u001b[0m\n\u001b[1;31mSyntaxError\u001b[0m\u001b[1;31m:\u001b[0m invalid syntax\n"
     ]
    }
   ],
   "source": [
    "문자열은 + 연산자로 여러 문자열을 연결 할 수 있다. "
   ]
  },
  {
   "cell_type": "code",
   "execution_count": 12,
   "id": "2b0cd975",
   "metadata": {},
   "outputs": [
    {
     "data": {
      "text/plain": [
       "'HelloWorld!'"
      ]
     },
     "execution_count": 12,
     "metadata": {},
     "output_type": "execute_result"
    }
   ],
   "source": [
    "'Hello' + 'World!'"
   ]
  },
  {
   "cell_type": "code",
   "execution_count": 13,
   "id": "d090af8b",
   "metadata": {},
   "outputs": [
    {
     "data": {
      "text/plain": [
       "'Hello, World!'"
      ]
     },
     "execution_count": 13,
     "metadata": {},
     "output_type": "execute_result"
    }
   ],
   "source": [
    "'Hello, ' + 'World!'"
   ]
  },
  {
   "cell_type": "code",
   "execution_count": 14,
   "id": "af982ef6",
   "metadata": {},
   "outputs": [
    {
     "data": {
      "text/plain": [
       "'Hello, 10'"
      ]
     },
     "execution_count": 14,
     "metadata": {},
     "output_type": "execute_result"
    }
   ],
   "source": [
    "'Hello, ' + str(10)"
   ]
  },
  {
   "cell_type": "code",
   "execution_count": 15,
   "id": "61069f1a",
   "metadata": {},
   "outputs": [
    {
     "ename": "SyntaxError",
     "evalue": "invalid syntax (<ipython-input-15-7aee3c972a2d>, line 1)",
     "output_type": "error",
     "traceback": [
      "\u001b[1;36m  File \u001b[1;32m\"<ipython-input-15-7aee3c972a2d>\"\u001b[1;36m, line \u001b[1;32m1\u001b[0m\n\u001b[1;33m    11.2 시퀀스 객체의 요소 개수 구하기\u001b[0m\n\u001b[1;37m         ^\u001b[0m\n\u001b[1;31mSyntaxError\u001b[0m\u001b[1;31m:\u001b[0m invalid syntax\n"
     ]
    }
   ],
   "source": [
    "11.2 시퀀스 객체의 요소 개수 구하기\n",
    "\n",
    "시퀀스 객체에는 요소가 여러 개 들어 있다. \n",
    "이 요소의 개수(길이)를 구할 때는 len 함수를 사용한다. \n",
    "len은 길이를 뜻하는 length에서 따왔다."
   ]
  },
  {
   "cell_type": "code",
   "execution_count": 16,
   "id": "26b257ad",
   "metadata": {},
   "outputs": [
    {
     "ename": "SyntaxError",
     "evalue": "invalid syntax (<ipython-input-16-24cb80e47343>, line 1)",
     "output_type": "error",
     "traceback": [
      "\u001b[1;36m  File \u001b[1;32m\"<ipython-input-16-24cb80e47343>\"\u001b[1;36m, line \u001b[1;32m1\u001b[0m\n\u001b[1;33m    11.2.2 range의 숫자 생성 개수 구하기\u001b[0m\n\u001b[1;37m        ^\u001b[0m\n\u001b[1;31mSyntaxError\u001b[0m\u001b[1;31m:\u001b[0m invalid syntax\n"
     ]
    }
   ],
   "source": [
    "11.2.2 range의 숫자 생성 개수 구하기\n",
    "range에 len함수를 사용하면 숫자가 생성되는 개수를 구한다."
   ]
  },
  {
   "cell_type": "code",
   "execution_count": 17,
   "id": "71d664e1",
   "metadata": {},
   "outputs": [
    {
     "data": {
      "text/plain": [
       "5"
      ]
     },
     "execution_count": 17,
     "metadata": {},
     "output_type": "execute_result"
    }
   ],
   "source": [
    "len(range(0, 10, 2))"
   ]
  },
  {
   "cell_type": "code",
   "execution_count": 18,
   "id": "62e26de7",
   "metadata": {},
   "outputs": [
    {
     "data": {
      "text/plain": [
       "range(0, 10, 2)"
      ]
     },
     "execution_count": 18,
     "metadata": {},
     "output_type": "execute_result"
    }
   ],
   "source": [
    "range(0, 10, 2)"
   ]
  },
  {
   "cell_type": "code",
   "execution_count": 19,
   "id": "7315010f",
   "metadata": {},
   "outputs": [
    {
     "data": {
      "text/plain": [
       "[0, 2, 4, 6, 8]"
      ]
     },
     "execution_count": 19,
     "metadata": {},
     "output_type": "execute_result"
    }
   ],
   "source": [
    "list(range(0, 10, 2))"
   ]
  },
  {
   "cell_type": "code",
   "execution_count": 20,
   "id": "1ef35b89",
   "metadata": {},
   "outputs": [
    {
     "data": {
      "text/plain": [
       "(0, 2, 4, 6, 8)"
      ]
     },
     "execution_count": 20,
     "metadata": {},
     "output_type": "execute_result"
    }
   ],
   "source": [
    "tuple(range(0, 10, 2))"
   ]
  },
  {
   "cell_type": "code",
   "execution_count": 21,
   "id": "5df02290",
   "metadata": {},
   "outputs": [
    {
     "ename": "SyntaxError",
     "evalue": "invalid syntax (<ipython-input-21-ff95bdf7f025>, line 1)",
     "output_type": "error",
     "traceback": [
      "\u001b[1;36m  File \u001b[1;32m\"<ipython-input-21-ff95bdf7f025>\"\u001b[1;36m, line \u001b[1;32m1\u001b[0m\n\u001b[1;33m    11.3 인덱스 사용하기\u001b[0m\n\u001b[1;37m         ^\u001b[0m\n\u001b[1;31mSyntaxError\u001b[0m\u001b[1;31m:\u001b[0m invalid syntax\n"
     ]
    }
   ],
   "source": [
    "11.3 인덱스 사용하기\n",
    "\n",
    "시퀀스 객체의 각 요소는 순서가 정해져 있으며, 이 순서를 인덱스 라고 부릅니다. \n",
    "\n",
    "시퀀스객체[인덱스]\n",
    "\n",
    "인덱스(index, 색인)는 위칫값을 뜻하는데, \n",
    "국어사전 옆면에 ㄱ, ㄴ ,ㄷ 으로 표시해 놓은 것과 비슷하다.\n",
    "시퀀스 객체의 인덱스는 항상 0부터 시작한다.!!!\n",
    "(대다수의 프로그래밍 언어는 인덱스가 0부터 시작한다.)\n",
    "\n"
   ]
  },
  {
   "cell_type": "code",
   "execution_count": 22,
   "id": "ac55150b",
   "metadata": {},
   "outputs": [
    {
     "data": {
      "text/plain": [
       "22"
      ]
     },
     "execution_count": 22,
     "metadata": {},
     "output_type": "execute_result"
    }
   ],
   "source": [
    "q = (3, 22, 19, 89) # 튜플의 첫 번째(인덱스0) 요소 출력\n",
    "q[1]"
   ]
  },
  {
   "cell_type": "code",
   "execution_count": 23,
   "id": "e5ac1b3c",
   "metadata": {},
   "outputs": [
    {
     "data": {
      "text/plain": [
       "4"
      ]
     },
     "execution_count": 23,
     "metadata": {},
     "output_type": "execute_result"
    }
   ],
   "source": [
    "r = range(0, 10, 2) # range의 세 번째(인덱스 2) 요소 출력\n",
    "r[2]"
   ]
  },
  {
   "cell_type": "code",
   "execution_count": 24,
   "id": "f1ea2b8c",
   "metadata": {},
   "outputs": [
    {
     "data": {
      "text/plain": [
       "'w'"
      ]
     },
     "execution_count": 24,
     "metadata": {},
     "output_type": "execute_result"
    }
   ],
   "source": [
    "# 문자열은 요소가 문자이므로 인덱스로 접근하면 문자가 나온다. \n",
    "\n",
    "hello = 'Hello, world!'\n",
    "hello[7]"
   ]
  },
  {
   "cell_type": "code",
   "execution_count": 25,
   "id": "8aaf286d",
   "metadata": {},
   "outputs": [
    {
     "ename": "SyntaxError",
     "evalue": "invalid syntax (<ipython-input-25-30edb9e68642>, line 1)",
     "output_type": "error",
     "traceback": [
      "\u001b[1;36m  File \u001b[1;32m\"<ipython-input-25-30edb9e68642>\"\u001b[1;36m, line \u001b[1;32m1\u001b[0m\n\u001b[1;33m    11.3.1 음수 인덱스 지정하기\u001b[0m\n\u001b[1;37m        ^\u001b[0m\n\u001b[1;31mSyntaxError\u001b[0m\u001b[1;31m:\u001b[0m invalid syntax\n"
     ]
    }
   ],
   "source": [
    "11.3.1 음수 인덱스 지정하기"
   ]
  },
  {
   "cell_type": "code",
   "execution_count": 26,
   "id": "894ee61a",
   "metadata": {},
   "outputs": [
    {
     "data": {
      "text/plain": [
       "89"
      ]
     },
     "execution_count": 26,
     "metadata": {},
     "output_type": "execute_result"
    }
   ],
   "source": [
    "p = [0, 3, 22, 19, 89]\n",
    "p[-1] # 리스트 뒤에서 첫 번째(인덱스 -1) 요소 출력 -> 뒤에서 첫번째 요소 -> 즉 시퀀스 객체의 마지막 요소임. "
   ]
  },
  {
   "cell_type": "code",
   "execution_count": 27,
   "id": "d8a8531e",
   "metadata": {},
   "outputs": [
    {
     "data": {
      "text/plain": [
       "0"
      ]
     },
     "execution_count": 27,
     "metadata": {},
     "output_type": "execute_result"
    }
   ],
   "source": [
    "p[-5] # 리스트의 뒤에서 다섯 번째(인덱스 -5) 요소 출력"
   ]
  },
  {
   "cell_type": "code",
   "execution_count": 28,
   "id": "12dd0dee",
   "metadata": {},
   "outputs": [
    {
     "ename": "SyntaxError",
     "evalue": "invalid syntax (<ipython-input-28-821293a0afbd>, line 1)",
     "output_type": "error",
     "traceback": [
      "\u001b[1;36m  File \u001b[1;32m\"<ipython-input-28-821293a0afbd>\"\u001b[1;36m, line \u001b[1;32m1\u001b[0m\n\u001b[1;33m    튜플, range, 문자열도 마찬가지로 음수 인덱스를 지정하면 뒤에서부터 요소에 접근한다.\u001b[0m\n\u001b[1;37m                    ^\u001b[0m\n\u001b[1;31mSyntaxError\u001b[0m\u001b[1;31m:\u001b[0m invalid syntax\n"
     ]
    }
   ],
   "source": [
    "튜플, range, 문자열도 마찬가지로 음수 인덱스를 지정하면 뒤에서부터 요소에 접근한다."
   ]
  },
  {
   "cell_type": "code",
   "execution_count": 29,
   "id": "bed2d04c",
   "metadata": {},
   "outputs": [
    {
     "ename": "SyntaxError",
     "evalue": "invalid syntax (<ipython-input-29-7eb444c987cc>, line 1)",
     "output_type": "error",
     "traceback": [
      "\u001b[1;36m  File \u001b[1;32m\"<ipython-input-29-7eb444c987cc>\"\u001b[1;36m, line \u001b[1;32m1\u001b[0m\n\u001b[1;33m    11.3.3 마지막 요소에 접근하기\u001b[0m\n\u001b[1;37m        ^\u001b[0m\n\u001b[1;31mSyntaxError\u001b[0m\u001b[1;31m:\u001b[0m invalid syntax\n"
     ]
    }
   ],
   "source": [
    "11.3.3 마지막 요소에 접근하기\n",
    "\n",
    "len 함수로 리스트의 길이를 구한 뒤 이 길이를 인덱스로 지정해보면 에러가 발생한다. \n"
   ]
  },
  {
   "cell_type": "code",
   "execution_count": 30,
   "id": "cf88aa6c",
   "metadata": {},
   "outputs": [
    {
     "data": {
      "text/plain": [
       "5"
      ]
     },
     "execution_count": 30,
     "metadata": {},
     "output_type": "execute_result"
    }
   ],
   "source": [
    "p = [0, 3, 22, 19, 89]\n",
    "len(p)"
   ]
  },
  {
   "cell_type": "code",
   "execution_count": 31,
   "id": "fa6067ae",
   "metadata": {},
   "outputs": [
    {
     "ename": "IndexError",
     "evalue": "list index out of range",
     "output_type": "error",
     "traceback": [
      "\u001b[1;31m---------------------------------------------------------------------------\u001b[0m",
      "\u001b[1;31mIndexError\u001b[0m                                Traceback (most recent call last)",
      "\u001b[1;32m<ipython-input-31-d9911783213f>\u001b[0m in \u001b[0;36m<module>\u001b[1;34m\u001b[0m\n\u001b[1;32m----> 1\u001b[1;33m \u001b[0mp\u001b[0m\u001b[1;33m[\u001b[0m\u001b[1;36m5\u001b[0m\u001b[1;33m]\u001b[0m\u001b[1;33m\u001b[0m\u001b[1;33m\u001b[0m\u001b[0m\n\u001b[0m",
      "\u001b[1;31mIndexError\u001b[0m: list index out of range"
     ]
    }
   ],
   "source": [
    "p[5]"
   ]
  },
  {
   "cell_type": "code",
   "execution_count": 32,
   "id": "4a46e4ca",
   "metadata": {},
   "outputs": [
    {
     "data": {
      "text/plain": [
       "89"
      ]
     },
     "execution_count": 32,
     "metadata": {},
     "output_type": "execute_result"
    }
   ],
   "source": [
    "p[4]"
   ]
  },
  {
   "cell_type": "code",
   "execution_count": 33,
   "id": "545aeef9",
   "metadata": {},
   "outputs": [
    {
     "ename": "IndexError",
     "evalue": "list index out of range",
     "output_type": "error",
     "traceback": [
      "\u001b[1;31m---------------------------------------------------------------------------\u001b[0m",
      "\u001b[1;31mIndexError\u001b[0m                                Traceback (most recent call last)",
      "\u001b[1;32m<ipython-input-33-80221692ea10>\u001b[0m in \u001b[0;36m<module>\u001b[1;34m\u001b[0m\n\u001b[1;32m----> 1\u001b[1;33m \u001b[0mp\u001b[0m\u001b[1;33m[\u001b[0m\u001b[0mlen\u001b[0m\u001b[1;33m(\u001b[0m\u001b[0mp\u001b[0m\u001b[1;33m)\u001b[0m\u001b[1;33m]\u001b[0m\u001b[1;33m\u001b[0m\u001b[1;33m\u001b[0m\u001b[0m\n\u001b[0m",
      "\u001b[1;31mIndexError\u001b[0m: list index out of range"
     ]
    }
   ],
   "source": [
    "p[len(p)]"
   ]
  },
  {
   "cell_type": "code",
   "execution_count": 34,
   "id": "3b3a84e8",
   "metadata": {},
   "outputs": [
    {
     "data": {
      "text/plain": [
       "89"
      ]
     },
     "execution_count": 34,
     "metadata": {},
     "output_type": "execute_result"
    }
   ],
   "source": [
    "p[len(p)-1] # 마지막 요소(인덱스 4) 출력, 즉 5 -1 4가 됨."
   ]
  },
  {
   "cell_type": "code",
   "execution_count": 35,
   "id": "32980cca",
   "metadata": {},
   "outputs": [
    {
     "ename": "SyntaxError",
     "evalue": "invalid syntax (<ipython-input-35-2880b28a376d>, line 1)",
     "output_type": "error",
     "traceback": [
      "\u001b[1;36m  File \u001b[1;32m\"<ipython-input-35-2880b28a376d>\"\u001b[1;36m, line \u001b[1;32m1\u001b[0m\n\u001b[1;33m    11.3.4 요소에 값 할당하기\u001b[0m\n\u001b[1;37m        ^\u001b[0m\n\u001b[1;31mSyntaxError\u001b[0m\u001b[1;31m:\u001b[0m invalid syntax\n"
     ]
    }
   ],
   "source": [
    "11.3.4 요소에 값 할당하기\n",
    "\n",
    "시퀀스 객체는 []로 요소에 접근한 뒤 =로 값을 할당합니다.\n",
    "\n",
    "시퀀스객체[인덱스] = 값"
   ]
  },
  {
   "cell_type": "code",
   "execution_count": 36,
   "id": "51cdacc5",
   "metadata": {},
   "outputs": [],
   "source": [
    "d = [0, 0, 0, 0, 0] # [] 안에 값은 인덱스 이기 때문에, 0번째\n",
    "\n",
    "d[0] = 0\n",
    "d[1] = 3\n",
    "d[2] = 22\n",
    "d[3] = 19\n",
    "d[4] = 89\n",
    "\n"
   ]
  },
  {
   "cell_type": "code",
   "execution_count": 37,
   "id": "430ddf5b",
   "metadata": {},
   "outputs": [
    {
     "data": {
      "text/plain": [
       "[0, 3, 22, 19, 89]"
      ]
     },
     "execution_count": 37,
     "metadata": {},
     "output_type": "execute_result"
    }
   ],
   "source": [
    "d"
   ]
  },
  {
   "cell_type": "code",
   "execution_count": 38,
   "id": "fee7298f",
   "metadata": {},
   "outputs": [
    {
     "data": {
      "text/plain": [
       "19"
      ]
     },
     "execution_count": 38,
     "metadata": {},
     "output_type": "execute_result"
    }
   ],
   "source": [
    "d[3]"
   ]
  },
  {
   "cell_type": "code",
   "execution_count": 39,
   "id": "b257436f",
   "metadata": {},
   "outputs": [
    {
     "ename": "SyntaxError",
     "evalue": "invalid syntax (<ipython-input-39-ad20c15feb1f>, line 1)",
     "output_type": "error",
     "traceback": [
      "\u001b[1;36m  File \u001b[1;32m\"<ipython-input-39-ad20c15feb1f>\"\u001b[1;36m, line \u001b[1;32m1\u001b[0m\n\u001b[1;33m    11.3.5 del로 요소 삭제하기\u001b[0m\n\u001b[1;37m        ^\u001b[0m\n\u001b[1;31mSyntaxError\u001b[0m\u001b[1;31m:\u001b[0m invalid syntax\n"
     ]
    }
   ],
   "source": [
    "11.3.5 del로 요소 삭제하기\n",
    "\n",
    "del 시퀀스객체[인덱스]\n",
    "\n",
    "리스트와 달리\n",
    "튜플과 range, 문자열은 삭제 할 수 없음.\n"
   ]
  },
  {
   "cell_type": "code",
   "execution_count": 40,
   "id": "1698286f",
   "metadata": {},
   "outputs": [
    {
     "ename": "SyntaxError",
     "evalue": "invalid syntax (<ipython-input-40-5d59af2837d5>, line 1)",
     "output_type": "error",
     "traceback": [
      "\u001b[1;36m  File \u001b[1;32m\"<ipython-input-40-5d59af2837d5>\"\u001b[1;36m, line \u001b[1;32m1\u001b[0m\n\u001b[1;33m    11.4 슬라이스 사용하기\u001b[0m\n\u001b[1;37m         ^\u001b[0m\n\u001b[1;31mSyntaxError\u001b[0m\u001b[1;31m:\u001b[0m invalid syntax\n"
     ]
    }
   ],
   "source": [
    "11.4 슬라이스 사용하기\n",
    "\n",
    "시퀀스 자료형은 슬라이스라는 기능을 자주 사용한다.\n",
    "슬라이스는(slice) 무엇인가의 일부를 잘라낸다는 뜻,\n",
    "말 그대로 시퀀스 객체의 일부를 잘라 낸다.\n",
    "\n",
    "시퀀스객체[시작인덱스:끝인덱스]\n"
   ]
  },
  {
   "cell_type": "code",
   "execution_count": 41,
   "id": "41c5fde1",
   "metadata": {},
   "outputs": [
    {
     "data": {
      "text/plain": [
       "[1, 2, 3, 4, 5, 6]"
      ]
     },
     "execution_count": 41,
     "metadata": {},
     "output_type": "execute_result"
    }
   ],
   "source": [
    "n = [0, 1, 2, 3, 4, 5, 6, 7, 8, 9, 10]\n",
    "n[1:7] # 끝 인덱스는 가져오려는 범위에 포함되지 않는다. 따라서, 끝 인덱스는 실제로 가져오려는 인덱스 보다 1을 더 크게 지정해야 한다."
   ]
  },
  {
   "cell_type": "code",
   "execution_count": 42,
   "id": "627bc603",
   "metadata": {},
   "outputs": [
    {
     "data": {
      "text/plain": [
       "[0, 1, 2, 3, 4, 5, 6, 7, 8, 9, 10]"
      ]
     },
     "execution_count": 42,
     "metadata": {},
     "output_type": "execute_result"
    }
   ],
   "source": [
    "n[:] # 리스트 전체를 가져옴."
   ]
  },
  {
   "cell_type": "code",
   "execution_count": 43,
   "id": "8d09bbf1",
   "metadata": {},
   "outputs": [
    {
     "ename": "NameError",
     "evalue": "name '시퀀스객체' is not defined",
     "output_type": "error",
     "traceback": [
      "\u001b[1;31m---------------------------------------------------------------------------\u001b[0m",
      "\u001b[1;31mNameError\u001b[0m                                 Traceback (most recent call last)",
      "\u001b[1;32m<ipython-input-43-f3bff94bedf1>\u001b[0m in \u001b[0;36m<module>\u001b[1;34m\u001b[0m\n\u001b[0;32m      1\u001b[0m \u001b[0mn\u001b[0m\u001b[1;33m[\u001b[0m\u001b[1;33m:\u001b[0m\u001b[1;36m7\u001b[0m\u001b[1;33m:\u001b[0m\u001b[1;36m2\u001b[0m\u001b[1;33m]\u001b[0m \u001b[1;31m# 처음부터 7번째 리스트까지, 증가폭은 2만큼 가져온다.\u001b[0m\u001b[1;33m\u001b[0m\u001b[1;33m\u001b[0m\u001b[0m\n\u001b[1;32m----> 2\u001b[1;33m \u001b[0m시퀀스객체\u001b[0m\u001b[1;33m[\u001b[0m\u001b[1;33m:\u001b[0m\u001b[0m끝인덱스\u001b[0m\u001b[1;33m:\u001b[0m\u001b[0m증가폭\u001b[0m\u001b[1;33m]\u001b[0m\u001b[1;33m\u001b[0m\u001b[1;33m\u001b[0m\u001b[0m\n\u001b[0m",
      "\u001b[1;31mNameError\u001b[0m: name '시퀀스객체' is not defined"
     ]
    }
   ],
   "source": [
    "n[:7:2] # 처음부터 7번째 리스트까지, 증가폭은 2만큼 가져온다. \n",
    "시퀀스객체[:끝인덱스:증가폭]\n"
   ]
  },
  {
   "cell_type": "code",
   "execution_count": 44,
   "id": "a1c8563a",
   "metadata": {},
   "outputs": [
    {
     "ename": "NameError",
     "evalue": "name '시퀀스객체' is not defined",
     "output_type": "error",
     "traceback": [
      "\u001b[1;31m---------------------------------------------------------------------------\u001b[0m",
      "\u001b[1;31mNameError\u001b[0m                                 Traceback (most recent call last)",
      "\u001b[1;32m<ipython-input-44-c70ecc711bb1>\u001b[0m in \u001b[0;36m<module>\u001b[1;34m\u001b[0m\n\u001b[0;32m      1\u001b[0m \u001b[0mn\u001b[0m\u001b[1;33m[\u001b[0m\u001b[1;36m7\u001b[0m\u001b[1;33m:\u001b[0m\u001b[1;33m:\u001b[0m\u001b[1;36m2\u001b[0m\u001b[1;33m]\u001b[0m \u001b[1;31m# 인덱스 7부터 2씩 증가시키면서 리스트의 마지막 요소까지 가져 옴.\u001b[0m\u001b[1;33m\u001b[0m\u001b[1;33m\u001b[0m\u001b[0m\n\u001b[1;32m----> 2\u001b[1;33m \u001b[0m시퀀스객체\u001b[0m\u001b[1;33m[\u001b[0m\u001b[0m시작인덱스\u001b[0m\u001b[1;33m:\u001b[0m\u001b[1;33m:\u001b[0m\u001b[0m증가폭\u001b[0m\u001b[1;33m]\u001b[0m\u001b[1;33m\u001b[0m\u001b[1;33m\u001b[0m\u001b[0m\n\u001b[0m",
      "\u001b[1;31mNameError\u001b[0m: name '시퀀스객체' is not defined"
     ]
    }
   ],
   "source": [
    "n[7::2] # 인덱스 7부터 2씩 증가시키면서 리스트의 마지막 요소까지 가져 옴. \n",
    "시퀀스객체[시작인덱스::증가폭]"
   ]
  },
  {
   "cell_type": "code",
   "execution_count": 45,
   "id": "22a5b8a4",
   "metadata": {},
   "outputs": [
    {
     "ename": "NameError",
     "evalue": "name '시퀀스객체' is not defined",
     "output_type": "error",
     "traceback": [
      "\u001b[1;31m---------------------------------------------------------------------------\u001b[0m",
      "\u001b[1;31mNameError\u001b[0m                                 Traceback (most recent call last)",
      "\u001b[1;32m<ipython-input-45-6eab3c446794>\u001b[0m in \u001b[0;36m<module>\u001b[1;34m\u001b[0m\n\u001b[0;32m      1\u001b[0m \u001b[0mn\u001b[0m\u001b[1;33m[\u001b[0m\u001b[1;33m:\u001b[0m\u001b[1;33m:\u001b[0m\u001b[1;36m2\u001b[0m\u001b[1;33m]\u001b[0m\u001b[1;33m\u001b[0m\u001b[1;33m\u001b[0m\u001b[0m\n\u001b[1;32m----> 2\u001b[1;33m \u001b[0m시퀀스객체\u001b[0m\u001b[1;33m[\u001b[0m\u001b[1;33m:\u001b[0m\u001b[1;33m:\u001b[0m\u001b[0m증가폭\u001b[0m\u001b[1;33m]\u001b[0m\u001b[1;33m\u001b[0m\u001b[1;33m\u001b[0m\u001b[0m\n\u001b[0m",
      "\u001b[1;31mNameError\u001b[0m: name '시퀀스객체' is not defined"
     ]
    }
   ],
   "source": [
    "n[::2]\n",
    "시퀀스객체[::증가폭]"
   ]
  },
  {
   "cell_type": "code",
   "execution_count": 46,
   "id": "426f0801",
   "metadata": {},
   "outputs": [
    {
     "ename": "SyntaxError",
     "evalue": "invalid syntax (<ipython-input-46-bf589f41ea93>, line 2)",
     "output_type": "error",
     "traceback": [
      "\u001b[1;36m  File \u001b[1;32m\"<ipython-input-46-bf589f41ea93>\"\u001b[1;36m, line \u001b[1;32m2\u001b[0m\n\u001b[1;33m    n[:] 과 n[::]의 결과는 같다.\u001b[0m\n\u001b[1;37m         ^\u001b[0m\n\u001b[1;31mSyntaxError\u001b[0m\u001b[1;31m:\u001b[0m invalid syntax\n"
     ]
    }
   ],
   "source": [
    "n[::] # 리스트 전체를 가져 옴.\n",
    "n[:] 과 n[::]의 결과는 같다.\n"
   ]
  },
  {
   "cell_type": "code",
   "execution_count": 47,
   "id": "76821fa8",
   "metadata": {},
   "outputs": [],
   "source": [
    "r = range(10)"
   ]
  },
  {
   "cell_type": "code",
   "execution_count": 48,
   "id": "eb6f251a",
   "metadata": {},
   "outputs": [
    {
     "data": {
      "text/plain": [
       "range(0, 10)"
      ]
     },
     "execution_count": 48,
     "metadata": {},
     "output_type": "execute_result"
    }
   ],
   "source": [
    "r"
   ]
  },
  {
   "cell_type": "code",
   "execution_count": 49,
   "id": "e1858c27",
   "metadata": {},
   "outputs": [
    {
     "data": {
      "text/plain": [
       "range(4, 7)"
      ]
     },
     "execution_count": 49,
     "metadata": {},
     "output_type": "execute_result"
    }
   ],
   "source": [
    "r[4:7]"
   ]
  },
  {
   "cell_type": "code",
   "execution_count": null,
   "id": "dd787720",
   "metadata": {},
   "outputs": [],
   "source": []
  },
  {
   "cell_type": "code",
   "execution_count": null,
   "id": "60b0b0bd",
   "metadata": {},
   "outputs": [],
   "source": []
  },
  {
   "cell_type": "code",
   "execution_count": 50,
   "id": "ac50a76f",
   "metadata": {},
   "outputs": [
    {
     "ename": "SyntaxError",
     "evalue": "invalid syntax (<ipython-input-50-bb99b423aac7>, line 1)",
     "output_type": "error",
     "traceback": [
      "\u001b[1;36m  File \u001b[1;32m\"<ipython-input-50-bb99b423aac7>\"\u001b[1;36m, line \u001b[1;32m1\u001b[0m\n\u001b[1;33m    11.8 심사문제: 리스트의 마지막 부분 삭제하기\u001b[0m\n\u001b[1;37m         ^\u001b[0m\n\u001b[1;31mSyntaxError\u001b[0m\u001b[1;31m:\u001b[0m invalid syntax\n"
     ]
    }
   ],
   "source": [
    "11.8 심사문제: 리스트의 마지막 부분 삭제하기\n",
    "\n",
    "표준입력으로 숫자 또는 문자열 여러 개가 입력되어 리스트 x에 저장된다.\n",
    "(입력되는 숫자 또는 문자열의 개수는 정해져 있지 않음)\n",
    "\n",
    "다음 소스 코드를 완성하여 리스트 x의 마지막 요소 5개를 삭제한 뒤 튜플로 출력되게 만드세요.\n",
    "\n"
   ]
  },
  {
   "cell_type": "code",
   "execution_count": 51,
   "id": "a4d61c14",
   "metadata": {},
   "outputs": [],
   "source": [
    "x = [1, 2, 3, 4, 5, 6, 7, 8, 9, 10]\n",
    "# del x[0:-5]\n",
    "del x[-5:]\n",
    "\n",
    "x[:] = []\n"
   ]
  },
  {
   "cell_type": "code",
   "execution_count": 52,
   "id": "834e12f2",
   "metadata": {},
   "outputs": [
    {
     "data": {
      "text/plain": [
       "[]"
      ]
     },
     "execution_count": 52,
     "metadata": {},
     "output_type": "execute_result"
    }
   ],
   "source": [
    "x"
   ]
  },
  {
   "cell_type": "code",
   "execution_count": 53,
   "id": "891d497e",
   "metadata": {},
   "outputs": [
    {
     "name": "stdout",
     "output_type": "stream",
     "text": [
      "()\n"
     ]
    }
   ],
   "source": [
    "print(tuple(x))"
   ]
  },
  {
   "cell_type": "code",
   "execution_count": 54,
   "id": "bb3b2589",
   "metadata": {},
   "outputs": [
    {
     "data": {
      "text/plain": [
       "()"
      ]
     },
     "execution_count": 54,
     "metadata": {},
     "output_type": "execute_result"
    }
   ],
   "source": [
    "tuple(x)"
   ]
  },
  {
   "cell_type": "code",
   "execution_count": 55,
   "id": "e2198e42",
   "metadata": {},
   "outputs": [
    {
     "name": "stdout",
     "output_type": "stream",
     "text": [
      "[]\n"
     ]
    }
   ],
   "source": [
    "print(str(x))"
   ]
  },
  {
   "cell_type": "code",
   "execution_count": 56,
   "id": "2043119f",
   "metadata": {},
   "outputs": [
    {
     "ename": "SyntaxError",
     "evalue": "invalid syntax (<ipython-input-56-e401460dc225>, line 1)",
     "output_type": "error",
     "traceback": [
      "\u001b[1;36m  File \u001b[1;32m\"<ipython-input-56-e401460dc225>\"\u001b[1;36m, line \u001b[1;32m1\u001b[0m\n\u001b[1;33m    y = [-1:-5]\u001b[0m\n\u001b[1;37m           ^\u001b[0m\n\u001b[1;31mSyntaxError\u001b[0m\u001b[1;31m:\u001b[0m invalid syntax\n"
     ]
    }
   ],
   "source": [
    "y = [-1:-5]"
   ]
  },
  {
   "cell_type": "code",
   "execution_count": 57,
   "id": "0af9ce1a",
   "metadata": {},
   "outputs": [],
   "source": [
    "x = [1, 2, 3, 4, 5, 6, 7, 8, 9, 10]\n",
    "del x[-5:]\n",
    "x[0:6] = ['1', '2', '3', '4', '5']"
   ]
  },
  {
   "cell_type": "code",
   "execution_count": 58,
   "id": "602f9c3e",
   "metadata": {},
   "outputs": [
    {
     "data": {
      "text/plain": [
       "['1', '2', '3', '4', '5']"
      ]
     },
     "execution_count": 58,
     "metadata": {},
     "output_type": "execute_result"
    }
   ],
   "source": [
    "x"
   ]
  },
  {
   "cell_type": "code",
   "execution_count": 59,
   "id": "61d56c57",
   "metadata": {},
   "outputs": [
    {
     "ename": "SyntaxError",
     "evalue": "invalid syntax (<ipython-input-59-ec805888ce22>, line 3)",
     "output_type": "error",
     "traceback": [
      "\u001b[1;36m  File \u001b[1;32m\"<ipython-input-59-ec805888ce22>\"\u001b[1;36m, line \u001b[1;32m3\u001b[0m\n\u001b[1;33m    x = [-5:]\u001b[0m\n\u001b[1;37m           ^\u001b[0m\n\u001b[1;31mSyntaxError\u001b[0m\u001b[1;31m:\u001b[0m invalid syntax\n"
     ]
    }
   ],
   "source": [
    "x = input().split()\n",
    "x = []\n",
    "x = [-5:]\n",
    "print(tuple(x))"
   ]
  },
  {
   "cell_type": "code",
   "execution_count": 75,
   "id": "b9b774ce",
   "metadata": {},
   "outputs": [
    {
     "name": "stdout",
     "output_type": "stream",
     "text": [
      "1 2 3 4 5 6 7 8 9 10\n",
      "['1', '2', '3', '4', '5']\n"
     ]
    }
   ],
   "source": [
    "x = [1, 2, 3, 4, 5, 6, 7, 8, 9, 10]\n",
    "x = input().split()\n",
    "del x[-5:len(x)]\n",
    "\n",
    "print(list(x))"
   ]
  },
  {
   "cell_type": "code",
   "execution_count": 76,
   "id": "1e057e90",
   "metadata": {},
   "outputs": [
    {
     "name": "stdout",
     "output_type": "stream",
     "text": [
      "1 2 3 4 5 6 7 8 9 10\n",
      "['1', '2', '3', '4', '5']\n"
     ]
    }
   ],
   "source": [
    "x = input().split()\n",
    "del x[-5:len(x)]\n",
    "\n",
    "print(list(x))"
   ]
  },
  {
   "cell_type": "code",
   "execution_count": 77,
   "id": "eb9fe84a",
   "metadata": {},
   "outputs": [
    {
     "name": "stdout",
     "output_type": "stream",
     "text": [
      "1 2 3 4 5 6 7 8 9 10\n",
      "('1', '2', '3', '4', '5')\n"
     ]
    }
   ],
   "source": [
    "x = input().split()\n",
    "del x[-5:len(x)]\n",
    "\n",
    "print(tuple(x))"
   ]
  },
  {
   "cell_type": "code",
   "execution_count": 60,
   "id": "a6b41dcb",
   "metadata": {},
   "outputs": [
    {
     "name": "stdout",
     "output_type": "stream",
     "text": [
      "\n"
     ]
    },
    {
     "ename": "TypeError",
     "evalue": "int() argument must be a string, a bytes-like object or a number, not 'list'",
     "output_type": "error",
     "traceback": [
      "\u001b[1;31m---------------------------------------------------------------------------\u001b[0m",
      "\u001b[1;31mTypeError\u001b[0m                                 Traceback (most recent call last)",
      "\u001b[1;32m<ipython-input-60-272ef28622d1>\u001b[0m in \u001b[0;36m<module>\u001b[1;34m\u001b[0m\n\u001b[0;32m      1\u001b[0m \u001b[0mx\u001b[0m \u001b[1;33m=\u001b[0m \u001b[0minput\u001b[0m\u001b[1;33m(\u001b[0m\u001b[1;33m)\u001b[0m\u001b[1;33m.\u001b[0m\u001b[0msplit\u001b[0m\u001b[1;33m(\u001b[0m\u001b[1;33m)\u001b[0m\u001b[1;33m\u001b[0m\u001b[1;33m\u001b[0m\u001b[0m\n\u001b[1;32m----> 2\u001b[1;33m \u001b[0mx\u001b[0m \u001b[1;33m=\u001b[0m \u001b[0mint\u001b[0m\u001b[1;33m(\u001b[0m\u001b[0mx\u001b[0m\u001b[1;33m)\u001b[0m\u001b[1;33m\u001b[0m\u001b[1;33m\u001b[0m\u001b[0m\n\u001b[0m",
      "\u001b[1;31mTypeError\u001b[0m: int() argument must be a string, a bytes-like object or a number, not 'list'"
     ]
    }
   ],
   "source": [
    "x = input().split()\n",
    "x = int(x)"
   ]
  },
  {
   "cell_type": "code",
   "execution_count": null,
   "id": "3f298bec",
   "metadata": {},
   "outputs": [],
   "source": []
  },
  {
   "cell_type": "code",
   "execution_count": 61,
   "id": "1d3ed9c0",
   "metadata": {},
   "outputs": [
    {
     "ename": "SyntaxError",
     "evalue": "invalid syntax (<ipython-input-61-2d1121854219>, line 1)",
     "output_type": "error",
     "traceback": [
      "\u001b[1;36m  File \u001b[1;32m\"<ipython-input-61-2d1121854219>\"\u001b[1;36m, line \u001b[1;32m1\u001b[0m\n\u001b[1;33m    11.9 심사문제: 문자열에서 인덱스가 홀수인 문자와 짝수인 문자 연결하기\u001b[0m\n\u001b[1;37m         ^\u001b[0m\n\u001b[1;31mSyntaxError\u001b[0m\u001b[1;31m:\u001b[0m invalid syntax\n"
     ]
    }
   ],
   "source": [
    "11.9 심사문제: 문자열에서 인덱스가 홀수인 문자와 짝수인 문자 연결하기\n",
    "    \n",
    "표준 입력으로 문자열 두 개가 각 줄에 입력됩니다.(문자열의 길이는 정해져 있지 않음)\n",
    "첫 번째 문자열에서 인덱스가 홀수인 문자와 두 번째 문자열에서 인덱스가 짝수인 문자를 연결하여 출력하는 프로그램을 만드세요\n",
    "(input에서 안내 문자열은 출력하지 않아야 합니다.)\n",
    "연결 순서는 첫 번째 문자열, 두 번째 문자열 순입니다. \n",
    "그리고 0은 짝수로 처리합니다.\n"
   ]
  },
  {
   "cell_type": "code",
   "execution_count": 62,
   "id": "f8bec606",
   "metadata": {},
   "outputs": [
    {
     "ename": "SyntaxError",
     "evalue": "invalid syntax (<ipython-input-62-5d02a4398176>, line 3)",
     "output_type": "error",
     "traceback": [
      "\u001b[1;36m  File \u001b[1;32m\"<ipython-input-62-5d02a4398176>\"\u001b[1;36m, line \u001b[1;32m3\u001b[0m\n\u001b[1;33m    변수 = [0::]\u001b[0m\n\u001b[1;37m           ^\u001b[0m\n\u001b[1;31mSyntaxError\u001b[0m\u001b[1;31m:\u001b[0m invalid syntax\n"
     ]
    }
   ],
   "source": [
    "input().split()\n",
    "\n",
    "변수 = [0::]"
   ]
  },
  {
   "cell_type": "code",
   "execution_count": null,
   "id": "99f3ea00",
   "metadata": {},
   "outputs": [],
   "source": [
    "0+1 홀수\n",
    "1+1 짝수\n",
    "x[1::2]\n",
    "y[::2]\n",
    "\n",
    "1부터+2씩\n",
    "처음부터+2씩 \n",
    "\n",
    "print(x+y)"
   ]
  },
  {
   "cell_type": "code",
   "execution_count": 73,
   "id": "f2610d2b",
   "metadata": {},
   "outputs": [
    {
     "name": "stdout",
     "output_type": "stream",
     "text": [
      "python\n",
      "love\n",
      "yhnlv\n"
     ]
    }
   ],
   "source": [
    "x = input()[1::2]\n",
    "y = input()[::2]\n",
    "print(x+y)"
   ]
  },
  {
   "cell_type": "code",
   "execution_count": null,
   "id": "f8450a44",
   "metadata": {},
   "outputs": [],
   "source": []
  },
  {
   "cell_type": "code",
   "execution_count": null,
   "id": "8683c3a5",
   "metadata": {},
   "outputs": [],
   "source": []
  }
 ],
 "metadata": {
  "kernelspec": {
   "display_name": "Python 3",
   "language": "python",
   "name": "python3"
  },
  "language_info": {
   "codemirror_mode": {
    "name": "ipython",
    "version": 3
   },
   "file_extension": ".py",
   "mimetype": "text/x-python",
   "name": "python",
   "nbconvert_exporter": "python",
   "pygments_lexer": "ipython3",
   "version": "3.8.8"
  }
 },
 "nbformat": 4,
 "nbformat_minor": 5
}
