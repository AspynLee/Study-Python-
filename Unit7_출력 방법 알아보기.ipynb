{
 "cells": [
  {
   "cell_type": "code",
   "execution_count": null,
   "id": "5cce3f4a",
   "metadata": {},
   "outputs": [],
   "source": [
    "sep는 구분자라는 뜻의 separator에서 따옴.\n",
    "\n",
    "\n",
    "print(값1, 값2, sep='문자 또는 문자열')\n",
    "print(변수1, 변수2, sep='문자 또는 문자열')"
   ]
  },
  {
   "cell_type": "code",
   "execution_count": 4,
   "id": "95eaaeea",
   "metadata": {},
   "outputs": [
    {
     "name": "stdout",
     "output_type": "stream",
     "text": [
      "1,2,3\n"
     ]
    }
   ],
   "source": [
    "print(1, 2, 3, sep = ',') # sep에 콤마만 지정"
   ]
  },
  {
   "cell_type": "code",
   "execution_count": 5,
   "id": "94034a42",
   "metadata": {},
   "outputs": [
    {
     "name": "stdout",
     "output_type": "stream",
     "text": [
      "1, 2, 3\n"
     ]
    }
   ],
   "source": [
    "print(1, 2, 3, sep = ', ')# sep에 콤마와 공백을 지정"
   ]
  },
  {
   "cell_type": "code",
   "execution_count": 6,
   "id": "cefcc12d",
   "metadata": {},
   "outputs": [
    {
     "name": "stdout",
     "output_type": "stream",
     "text": [
      "123\n"
     ]
    }
   ],
   "source": [
    "print(1, 2, 3, sep = '')# sep에 빈 문자열을 지정"
   ]
  },
  {
   "cell_type": "code",
   "execution_count": 7,
   "id": "ae1693e8",
   "metadata": {},
   "outputs": [
    {
     "name": "stdout",
     "output_type": "stream",
     "text": [
      "1920x1080\n"
     ]
    }
   ],
   "source": [
    "print(1920, 1080, sep = 'x')# sep에 x를 지정"
   ]
  },
  {
   "cell_type": "code",
   "execution_count": null,
   "id": "970c7ee7",
   "metadata": {},
   "outputs": [],
   "source": [
    "7.2 줄바꿈 활용하기"
   ]
  },
  {
   "cell_type": "code",
   "execution_count": 15,
   "id": "836b1b10",
   "metadata": {},
   "outputs": [
    {
     "name": "stdout",
     "output_type": "stream",
     "text": [
      "1\n",
      "2\n",
      "3\n"
     ]
    }
   ],
   "source": [
    "print(1, 2, 3, sep = '\\n') # sep에 '\\n'을 지정"
   ]
  },
  {
   "cell_type": "code",
   "execution_count": 16,
   "id": "25ec0e92",
   "metadata": {},
   "outputs": [
    {
     "name": "stdout",
     "output_type": "stream",
     "text": [
      "1\n",
      "2\n",
      "3\n"
     ]
    }
   ],
   "source": [
    "print('1\\n2\\n3')"
   ]
  },
  {
   "cell_type": "code",
   "execution_count": 14,
   "id": "bf3d6c82",
   "metadata": {},
   "outputs": [
    {
     "name": "stdout",
     "output_type": "stream",
     "text": [
      "1\n",
      "2\n",
      "3\n"
     ]
    }
   ],
   "source": [
    "print(1, 2, 3, sep = '\\n')"
   ]
  },
  {
   "cell_type": "code",
   "execution_count": null,
   "id": "9d571041",
   "metadata": {},
   "outputs": [],
   "source": [
    "\\n\n",
    "다음 줄로 이동\n",
    "값을 다음 줄에 출력하게 만드는 제어 문자 임.\n",
    "\n",
    "\\n 자체는 제어문이라서 화면에 출력되지 않음.\n"
   ]
  },
  {
   "cell_type": "code",
   "execution_count": null,
   "id": "298caf68",
   "metadata": {},
   "outputs": [],
   "source": [
    "7.2.1 end 사용하기"
   ]
  },
  {
   "cell_type": "code",
   "execution_count": null,
   "id": "76120feb",
   "metadata": {},
   "outputs": [],
   "source": [
    "print(값, end='문자 또는 문자열')\n",
    "print(변수, end='문자 또는 문자열')"
   ]
  },
  {
   "cell_type": "code",
   "execution_count": 17,
   "id": "24f27a1f",
   "metadata": {},
   "outputs": [
    {
     "name": "stdout",
     "output_type": "stream",
     "text": [
      "123\n"
     ]
    }
   ],
   "source": [
    "print(1, end='') # end에 빈 문자열을 지정하면 다음번 출력이 바로 뒤에 오게 됨.\n",
    "print(2, end='')\n",
    "print(3)"
   ]
  },
  {
   "cell_type": "code",
   "execution_count": 18,
   "id": "f99e877e",
   "metadata": {},
   "outputs": [
    {
     "name": "stdout",
     "output_type": "stream",
     "text": [
      "1 2 3\n"
     ]
    }
   ],
   "source": [
    "print(1, end=' ') # end에 빈 문자열을 지정하면 다음번 출력이 바로 뒤에 오게 됨.\n",
    "print(2, end=' ')\n",
    "print(3)"
   ]
  },
  {
   "cell_type": "code",
   "execution_count": null,
   "id": "efb92c91",
   "metadata": {},
   "outputs": [],
   "source": []
  },
  {
   "cell_type": "code",
   "execution_count": 2,
   "id": "314de9c4",
   "metadata": {},
   "outputs": [
    {
     "ename": "SyntaxError",
     "evalue": "invalid syntax (<ipython-input-2-84ab1d57b0c1>, line 1)",
     "output_type": "error",
     "traceback": [
      "\u001b[1;36m  File \u001b[1;32m\"<ipython-input-2-84ab1d57b0c1>\"\u001b[1;36m, line \u001b[1;32m1\u001b[0m\n\u001b[1;33m    1999 12 31 10 37 21\u001b[0m\n\u001b[1;37m         ^\u001b[0m\n\u001b[1;31mSyntaxError\u001b[0m\u001b[1;31m:\u001b[0m invalid syntax\n"
     ]
    }
   ],
   "source": []
  },
  {
   "cell_type": "code",
   "execution_count": null,
   "id": "dbdd3410",
   "metadata": {},
   "outputs": [],
   "source": [
    "# 표준 입력 1999 12 31 10 37 21\n",
    "# 입력된 날짜와 시간을 년-월-일T시:분:초 형식으로 출력되게 만드세요 \n",
    "#표준 출력\n",
    "year\n",
    "month\n",
    "day\n",
    "hour\n",
    "minute\n",
    "second = input().split()"
   ]
  },
  {
   "cell_type": "code",
   "execution_count": 19,
   "id": "bd70c2b7",
   "metadata": {},
   "outputs": [],
   "source": [
    "year = 1999\n",
    "month = 12\n",
    "day = 31\n",
    "hour = 10\n",
    "minute = 37\n",
    "second = 21"
   ]
  },
  {
   "cell_type": "code",
   "execution_count": 21,
   "id": "ef877a85",
   "metadata": {},
   "outputs": [
    {
     "name": "stdout",
     "output_type": "stream",
     "text": [
      "1999-12-31T10:37:21\n"
     ]
    }
   ],
   "source": [
    "print(year, month, day, sep = '-', end = 'T')\n",
    "print(hour, minute, second, sep = ':')"
   ]
  },
  {
   "cell_type": "code",
   "execution_count": null,
   "id": "2299ab63",
   "metadata": {},
   "outputs": [],
   "source": [
    "second = input().split(:)"
   ]
  },
  {
   "cell_type": "code",
   "execution_count": null,
   "id": "e30547a9",
   "metadata": {},
   "outputs": [],
   "source": []
  },
  {
   "cell_type": "code",
   "execution_count": 1,
   "id": "eb4ebc3b",
   "metadata": {},
   "outputs": [
    {
     "ename": "SyntaxError",
     "evalue": "invalid syntax (<ipython-input-1-6aa32a3f81f0>, line 1)",
     "output_type": "error",
     "traceback": [
      "\u001b[1;36m  File \u001b[1;32m\"<ipython-input-1-6aa32a3f81f0>\"\u001b[1;36m, line \u001b[1;32m1\u001b[0m\n\u001b[1;33m    표준 입력으로 년, 월, 일, 시, 분, 초가 인력''\u001b[0m\n\u001b[1;37m       ^\u001b[0m\n\u001b[1;31mSyntaxError\u001b[0m\u001b[1;31m:\u001b[0m invalid syntax\n"
     ]
    }
   ],
   "source": [
    "표준 입력으로 년, 월, 일, 시, 분, 초가 인력''\n",
    "\n",
    "\n",
    "2021 12 07 \n"
   ]
  },
  {
   "cell_type": "code",
   "execution_count": null,
   "id": "d0e0cd9c",
   "metadata": {},
   "outputs": [],
   "source": []
  }
 ],
 "metadata": {
  "kernelspec": {
   "display_name": "Python 3",
   "language": "python",
   "name": "python3"
  },
  "language_info": {
   "codemirror_mode": {
    "name": "ipython",
    "version": 3
   },
   "file_extension": ".py",
   "mimetype": "text/x-python",
   "name": "python",
   "nbconvert_exporter": "python",
   "pygments_lexer": "ipython3",
   "version": "3.8.8"
  }
 },
 "nbformat": 4,
 "nbformat_minor": 5
}
