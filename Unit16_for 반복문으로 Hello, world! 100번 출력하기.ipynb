{
 "cells": [
  {
   "cell_type": "code",
   "execution_count": null,
   "id": "85e94144",
   "metadata": {},
   "outputs": [],
   "source": [
    "16.5. 연습문제: 리스트의 요소에 10을 곱해서 출력하기\n"
   ]
  },
  {
   "cell_type": "code",
   "execution_count": 29,
   "id": "a1f8ddd3",
   "metadata": {},
   "outputs": [
    {
     "name": "stdout",
     "output_type": "stream",
     "text": [
      "490 -170 250 1020 80 620 210 "
     ]
    }
   ],
   "source": [
    "x = [49, -17, 25, 102, 8, 62, 21]\n",
    "\n",
    "for i in x:\n",
    "    print(i * 10, end=' ')"
   ]
  },
  {
   "cell_type": "code",
   "execution_count": null,
   "id": "0978e8eb",
   "metadata": {},
   "outputs": [],
   "source": [
    "16.6 심사문제: 구구단 출력하기\n",
    "    \n",
    "    표준 입력으로 "
   ]
  },
  {
   "cell_type": "code",
   "execution_count": 24,
   "id": "9a2026a2",
   "metadata": {},
   "outputs": [
    {
     "name": "stdout",
     "output_type": "stream",
     "text": [
      "10\n",
      "10 * 1 = 10\n",
      "10 * 2 = 20\n",
      "10 * 3 = 30\n",
      "10 * 4 = 40\n",
      "10 * 5 = 50\n",
      "10 * 6 = 60\n",
      "10 * 7 = 70\n",
      "10 * 8 = 80\n",
      "10 * 9 = 90\n"
     ]
    }
   ],
   "source": [
    "x = int(input())\n",
    "\n",
    "for i in range(1,10):\n",
    "    print(x, i, sep = ' * ', end = ' = ')\n",
    "    print(x*i)"
   ]
  },
  {
   "cell_type": "code",
   "execution_count": 25,
   "id": "2d292eef",
   "metadata": {},
   "outputs": [
    {
     "name": "stdout",
     "output_type": "stream",
     "text": [
      "3\n",
      "3 * 1 = 3\n",
      "3 * 2 = 6\n",
      "3 * 3 = 9\n",
      "3 * 4 = 12\n",
      "3 * 5 = 15\n",
      "3 * 6 = 18\n",
      "3 * 7 = 21\n",
      "3 * 8 = 24\n",
      "3 * 9 = 27\n"
     ]
    }
   ],
   "source": [
    "x = int(input())\n",
    "\n",
    "for i in range(1, 10):\n",
    "    print(x, i, sep = ' * ',end = ' = ')\n",
    "    print(x*i)\n",
    "    "
   ]
  },
  {
   "cell_type": "code",
   "execution_count": null,
   "id": "afcc646c",
   "metadata": {},
   "outputs": [],
   "source": []
  },
  {
   "cell_type": "code",
   "execution_count": null,
   "id": "d6705874",
   "metadata": {},
   "outputs": [],
   "source": [
    "for 변수 in range(횟수)\n",
    "    반복할 코드\n",
    "    "
   ]
  },
  {
   "cell_type": "code",
   "execution_count": 3,
   "id": "8164a1a9",
   "metadata": {
    "scrolled": true
   },
   "outputs": [
    {
     "name": "stdout",
     "output_type": "stream",
     "text": [
      "Hello, world! 0\n",
      "Hello, world! 1\n",
      "Hello, world! 2\n",
      "Hello, world! 3\n",
      "Hello, world! 4\n",
      "Hello, world! 5\n",
      "Hello, world! 6\n",
      "Hello, world! 7\n",
      "Hello, world! 8\n",
      "Hello, world! 9\n"
     ]
    }
   ],
   "source": [
    "for i in range(10):\n",
    "    print('Hello, world!', i)"
   ]
  },
  {
   "cell_type": "code",
   "execution_count": 5,
   "id": "4c188991",
   "metadata": {},
   "outputs": [
    {
     "name": "stdout",
     "output_type": "stream",
     "text": [
      "Hello, World 5\n",
      "Hello, World 6\n",
      "Hello, World 7\n",
      "Hello, World 8\n",
      "Hello, World 9\n",
      "Hello, World 10\n",
      "Hello, World 11\n"
     ]
    }
   ],
   "source": [
    "for i in range(5, 12):\n",
    " print('Hello, World', i)"
   ]
  },
  {
   "cell_type": "code",
   "execution_count": 8,
   "id": "adfbd98e",
   "metadata": {},
   "outputs": [
    {
     "name": "stdout",
     "output_type": "stream",
     "text": [
      "HELLO, World! 0\n",
      "HELLO, World! 2\n",
      "HELLO, World! 4\n",
      "HELLO, World! 6\n",
      "HELLO, World! 8\n"
     ]
    }
   ],
   "source": [
    "for i in range(0, 10, 2):\n",
    "    print('HELLO, World!', i)"
   ]
  },
  {
   "cell_type": "code",
   "execution_count": 10,
   "id": "1105ef73",
   "metadata": {},
   "outputs": [
    {
     "name": "stdout",
     "output_type": "stream",
     "text": [
      "Hello, World! 10\n",
      "Hello, World! 9\n",
      "Hello, World! 8\n",
      "Hello, World! 7\n",
      "Hello, World! 6\n",
      "Hello, World! 5\n",
      "Hello, World! 4\n",
      "Hello, World! 3\n",
      "Hello, World! 2\n",
      "Hello, World! 1\n"
     ]
    }
   ],
   "source": [
    "for i in range(10, 0, -1): #10에서 1까지 1씩 감소\n",
    "    print('Hello, World!', i)"
   ]
  },
  {
   "cell_type": "code",
   "execution_count": 11,
   "id": "77be1480",
   "metadata": {},
   "outputs": [
    {
     "name": "stdout",
     "output_type": "stream",
     "text": [
      "Hello, world! 9\n",
      "Hello, world! 8\n",
      "Hello, world! 7\n",
      "Hello, world! 6\n",
      "Hello, world! 5\n",
      "Hello, world! 4\n",
      "Hello, world! 3\n",
      "Hello, world! 2\n",
      "Hello, world! 1\n",
      "Hello, world! 0\n"
     ]
    }
   ],
   "source": [
    "for i in reversed(range(10)):\n",
    "    print('Hello, world!', i)"
   ]
  },
  {
   "cell_type": "code",
   "execution_count": 12,
   "id": "6cfd78ab",
   "metadata": {},
   "outputs": [
    {
     "name": "stdout",
     "output_type": "stream",
     "text": [
      "0 1 2 3 4 5 6 7 8 9 "
     ]
    }
   ],
   "source": [
    "for i in range(10):\n",
    "    print(i, end=' ')"
   ]
  },
  {
   "cell_type": "code",
   "execution_count": 13,
   "id": "fad8f1c2",
   "metadata": {},
   "outputs": [
    {
     "name": "stdout",
     "output_type": "stream",
     "text": [
      "0\n",
      "1\n",
      "2\n",
      "3\n",
      "4\n",
      "5\n",
      "6\n",
      "7\n",
      "8\n",
      "9\n"
     ]
    }
   ],
   "source": [
    "for i in range(10):\n",
    "    print(i)"
   ]
  },
  {
   "cell_type": "code",
   "execution_count": 15,
   "id": "4fa54787",
   "metadata": {},
   "outputs": [
    {
     "name": "stdout",
     "output_type": "stream",
     "text": [
      "0/1/2/3/4/5/6/7/8/9/"
     ]
    }
   ],
   "source": [
    "for i in range(10):\n",
    "    print(i, end='/')"
   ]
  },
  {
   "cell_type": "code",
   "execution_count": 16,
   "id": "44a606f1",
   "metadata": {},
   "outputs": [
    {
     "name": "stdout",
     "output_type": "stream",
     "text": [
      "반복할 횟수를 입력하세요: 10\n",
      "Hello, world 0\n",
      "Hello, world 1\n",
      "Hello, world 2\n",
      "Hello, world 3\n",
      "Hello, world 4\n",
      "Hello, world 5\n",
      "Hello, world 6\n",
      "Hello, world 7\n",
      "Hello, world 8\n",
      "Hello, world 9\n"
     ]
    }
   ],
   "source": [
    "count = int(input('반복할 횟수를 입력하세요: '))\n",
    "\n",
    "for i in range(count):\n",
    "    print('Hello, world', i)"
   ]
  },
  {
   "cell_type": "code",
   "execution_count": 17,
   "id": "6ae18e24",
   "metadata": {},
   "outputs": [
    {
     "name": "stdout",
     "output_type": "stream",
     "text": [
      "10\n",
      "20\n",
      "30\n",
      "40\n",
      "50\n"
     ]
    }
   ],
   "source": [
    "a = [10, 20, 30, 40, 50]\n",
    "for i in a:\n",
    "    print(i)"
   ]
  },
  {
   "cell_type": "code",
   "execution_count": 18,
   "id": "ad8233ad",
   "metadata": {},
   "outputs": [
    {
     "name": "stdout",
     "output_type": "stream",
     "text": [
      "apple\n",
      "orange\n",
      "grape\n"
     ]
    }
   ],
   "source": [
    "fruits = ('apple', 'orange', 'grape')\n",
    "for fruit in fruits:\n",
    "    print(fruit)"
   ]
  },
  {
   "cell_type": "code",
   "execution_count": 21,
   "id": "caf7fe9b",
   "metadata": {},
   "outputs": [
    {
     "name": "stdout",
     "output_type": "stream",
     "text": [
      "apple\n",
      "orange\n",
      "grape\n"
     ]
    }
   ],
   "source": [
    "fruits = ('apple', 'orange', 'grape')\n",
    "for i in fruits:\n",
    "    print(i)"
   ]
  },
  {
   "cell_type": "code",
   "execution_count": 22,
   "id": "5ba4cb0a",
   "metadata": {},
   "outputs": [
    {
     "name": "stdout",
     "output_type": "stream",
     "text": [
      "p y t h o n "
     ]
    }
   ],
   "source": [
    "for letter in 'python':\n",
    "    print(letter, end=' ')"
   ]
  },
  {
   "cell_type": "code",
   "execution_count": 23,
   "id": "9333ea36",
   "metadata": {},
   "outputs": [
    {
     "name": "stdout",
     "output_type": "stream",
     "text": [
      "p y t h o n "
     ]
    }
   ],
   "source": [
    "for i in 'python':\n",
    "    print(i, end=' ')"
   ]
  },
  {
   "cell_type": "code",
   "execution_count": 24,
   "id": "09d5ee97",
   "metadata": {},
   "outputs": [
    {
     "name": "stdout",
     "output_type": "stream",
     "text": [
      "n o h t y P "
     ]
    }
   ],
   "source": [
    "for i in reversed('Python'):\n",
    "    print(i, end = ' ')"
   ]
  },
  {
   "cell_type": "code",
   "execution_count": 28,
   "id": "b0947c41",
   "metadata": {
    "scrolled": true
   },
   "outputs": [
    {
     "name": "stdout",
     "output_type": "stream",
     "text": [
      "i m g n o Y e e L "
     ]
    }
   ],
   "source": [
    "for i in reversed('LeeYongmi'):\n",
    "    print(i, end=' ')"
   ]
  },
  {
   "cell_type": "code",
   "execution_count": null,
   "id": "fadaa457",
   "metadata": {},
   "outputs": [],
   "source": []
  },
  {
   "cell_type": "code",
   "execution_count": null,
   "id": "4af4fcd2",
   "metadata": {},
   "outputs": [],
   "source": []
  }
 ],
 "metadata": {
  "kernelspec": {
   "display_name": "Python 3",
   "language": "python",
   "name": "python3"
  },
  "language_info": {
   "codemirror_mode": {
    "name": "ipython",
    "version": 3
   },
   "file_extension": ".py",
   "mimetype": "text/x-python",
   "name": "python",
   "nbconvert_exporter": "python",
   "pygments_lexer": "ipython3",
   "version": "3.8.8"
  }
 },
 "nbformat": 4,
 "nbformat_minor": 5
}
