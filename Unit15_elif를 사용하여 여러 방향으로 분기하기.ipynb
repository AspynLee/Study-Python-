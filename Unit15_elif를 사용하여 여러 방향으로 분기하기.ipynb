{
 "cells": [
  {
   "cell_type": "code",
   "execution_count": null,
   "id": "82fcede9",
   "metadata": {},
   "outputs": [],
   "source": [
    "15.4: 심사문제: 교통카드 시스템 만들기\n",
    "\n",
    "표준 입력으로 나이(만 나이)가 입력됩니다. (입력 값은 7이상 입력 됨). 교통카드 시스템에서 시내버스 요금은 다음과 같으며\n",
    "각 나이게 맞게 요금을 차감한 뒤 잔액이 출력되게 만드세요.(if, elif 사용).\n",
    "현재 교통카드에는 9,000원이 들어 있습니다.\n",
    "\n",
    "어린이(초등학생, 만 7세 이상 12세 이하): 650원\n",
    "청소년(중. 고등학생, 만 13세 이상 18세 이하): 1050원\n",
    "어른(일반, 만 19세 이상): 1,250원\n"
   ]
  },
  {
   "cell_type": "code",
   "execution_count": 20,
   "id": "686b904d",
   "metadata": {},
   "outputs": [
    {
     "name": "stdout",
     "output_type": "stream",
     "text": [
      "12\n",
      "8350\n"
     ]
    }
   ],
   "source": [
    "age=int(input())\n",
    "balance = 9000\n",
    "\n",
    "if 7 <= age <= 12:\n",
    "    balance -= 650\n",
    "elif 13 <= age <= 18:\n",
    "    balance -= 1050\n",
    "elif 19 <= age:\n",
    "    balance -= 50\n",
    "    \n",
    "print(balance)\n",
    "\n",
    "\n",
    "age = int(input())\n",
    "balance = 9000\n",
    "\n",
    "if 8 <=age"
   ]
  },
  {
   "cell_type": "code",
   "execution_count": null,
   "id": "de0dd6bb",
   "metadata": {},
   "outputs": [],
   "source": [
    "\n",
    "\n",
    "\n",
    "\n",
    "표준입력, 17\n",
    "표준출력 7950\n",
    "표준입력, 12"
   ]
  },
  {
   "cell_type": "code",
   "execution_count": 1,
   "id": "c75a87b3",
   "metadata": {},
   "outputs": [
    {
     "name": "stdout",
     "output_type": "stream",
     "text": [
      "20입니다.\n"
     ]
    }
   ],
   "source": [
    "x = 20\n",
    "if x == 10:\n",
    "    print('10입니다.')\n",
    "elif x == 20:\n",
    "    print('20입니다.')\n"
   ]
  },
  {
   "cell_type": "markdown",
   "id": "b355794f",
   "metadata": {},
   "source": [
    "15.1.1 if, elif, else 모두 사용하기\n",
    "\n",
    "elif와 else는 단독으로 사용할 수 없으며 if, else 형태로 사용하거나, if, elif, else 형태로 사용합니다.\n",
    "if 조건식:\n",
    "    코드1\n",
    "elif 조건식:\n",
    "    코드2\n",
    "else:\n",
    "    코드3"
   ]
  },
  {
   "cell_type": "code",
   "execution_count": 2,
   "id": "d8f3e479",
   "metadata": {},
   "outputs": [
    {
     "name": "stdout",
     "output_type": "stream",
     "text": [
      "10도 20도 아닙니다.\n"
     ]
    }
   ],
   "source": [
    "x = 30\n",
    "\n",
    "if x == 10:\n",
    "    print('10입니다')\n",
    "elif x == 20:\n",
    "    print('20입니다.')\n",
    "else:\n",
    "    print('10도 20도 아닙니다.')\n"
   ]
  },
  {
   "cell_type": "code",
   "execution_count": null,
   "id": "58b8ea03",
   "metadata": {},
   "outputs": [],
   "source": [
    "15.1.2 음료수 자판기 만들기\n",
    "\n",
    "버튼 1번은 '콜라', 2번은 '사이다', 3번은 '환타'\n",
    "각 버튼에 따라 음료수 이름을 출력한다. \n",
    "\n"
   ]
  },
  {
   "cell_type": "code",
   "execution_count": 3,
   "id": "1963898d",
   "metadata": {},
   "outputs": [
    {
     "name": "stdout",
     "output_type": "stream",
     "text": [
      "1\n",
      "콜라\n"
     ]
    }
   ],
   "source": [
    "button = int(input())\n",
    "\n",
    "if button ==  1:\n",
    "    print('콜라')\n",
    "elif button == 2:\n",
    "    print('사이다')\n",
    "elif button == 3:\n",
    "    print('환타')\n",
    "else:\n",
    "    prnit('제공하지 않는 메뉴')"
   ]
  },
  {
   "cell_type": "code",
   "execution_count": 6,
   "id": "917628be",
   "metadata": {},
   "outputs": [
    {
     "name": "stdout",
     "output_type": "stream",
     "text": [
      "5\n",
      "제공하지 않는 메뉴\n"
     ]
    }
   ],
   "source": [
    "button = int(input())\n",
    "\n",
    "if button == 1:\n",
    "    print('콜라')\n",
    "elif button == 2:\n",
    "    print('사이다')\n",
    "elif button == 3:\n",
    "    print('환타')\n",
    "else:\n",
    "    print('제공하지 않는 메뉴')"
   ]
  },
  {
   "cell_type": "markdown",
   "id": "37fd3cc0",
   "metadata": {},
   "source": [
    "# 15.3 연습문제: if, elif, else 모두 사용하기\n",
    "\n",
    "다음 소스 코드를 완성하여 변수 x가 11과 20 사이면 '11~20', 21과 30 사이면 '21~30', 아무것도 해당하지 않으면 '아무것도 해당하지 않음'이 출력되게 만드세요.\n",
    "\n"
   ]
  },
  {
   "cell_type": "code",
   "execution_count": 1,
   "id": "2b1253b4",
   "metadata": {},
   "outputs": [
    {
     "name": "stdout",
     "output_type": "stream",
     "text": [
      "5\n"
     ]
    }
   ],
   "source": [
    "x = int(input())"
   ]
  },
  {
   "cell_type": "code",
   "execution_count": 23,
   "id": "3355f45e",
   "metadata": {},
   "outputs": [
    {
     "name": "stdout",
     "output_type": "stream",
     "text": [
      "5\n",
      "아무것도 해당하지 않음\n"
     ]
    }
   ],
   "source": [
    "x = int(input())\n",
    "if 11 <= x <= 20:\n",
    "    print('11~20')\n",
    "elif 21 <= x <= 30:\n",
    "    print('21~30')\n",
    "else:\n",
    "    print('아무것도 해당하지 않음')"
   ]
  },
  {
   "cell_type": "code",
   "execution_count": null,
   "id": "fa978438",
   "metadata": {},
   "outputs": [],
   "source": []
  },
  {
   "cell_type": "code",
   "execution_count": null,
   "id": "bcc86f13",
   "metadata": {},
   "outputs": [],
   "source": []
  },
  {
   "cell_type": "code",
   "execution_count": null,
   "id": "162ef0e8",
   "metadata": {},
   "outputs": [],
   "source": []
  },
  {
   "cell_type": "code",
   "execution_count": null,
   "id": "82980fe5",
   "metadata": {},
   "outputs": [],
   "source": []
  },
  {
   "cell_type": "code",
   "execution_count": null,
   "id": "211d0184",
   "metadata": {},
   "outputs": [],
   "source": []
  },
  {
   "cell_type": "code",
   "execution_count": null,
   "id": "c57f3636",
   "metadata": {},
   "outputs": [],
   "source": []
  },
  {
   "cell_type": "code",
   "execution_count": null,
   "id": "cda79240",
   "metadata": {},
   "outputs": [],
   "source": []
  },
  {
   "cell_type": "code",
   "execution_count": null,
   "id": "99bff51d",
   "metadata": {},
   "outputs": [],
   "source": []
  },
  {
   "cell_type": "code",
   "execution_count": null,
   "id": "bf57fc1c",
   "metadata": {},
   "outputs": [],
   "source": []
  },
  {
   "cell_type": "code",
   "execution_count": null,
   "id": "10676090",
   "metadata": {},
   "outputs": [],
   "source": []
  }
 ],
 "metadata": {
  "kernelspec": {
   "display_name": "Python 3",
   "language": "python",
   "name": "python3"
  },
  "language_info": {
   "codemirror_mode": {
    "name": "ipython",
    "version": 3
   },
   "file_extension": ".py",
   "mimetype": "text/x-python",
   "name": "python",
   "nbconvert_exporter": "python",
   "pygments_lexer": "ipython3",
   "version": "3.8.8"
  }
 },
 "nbformat": 4,
 "nbformat_minor": 5
}
