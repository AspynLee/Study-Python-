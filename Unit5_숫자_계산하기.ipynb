{
 "cells": [
  {
   "cell_type": "code",
   "execution_count": null,
   "id": "d9315ccb",
   "metadata": {},
   "outputs": [],
   "source": [
    "파이썬의 숫자 자료형\n",
    "\n",
    "숫자\n",
    "정수, int(integer)\n",
    "실수, float(floating-point, 부동소수점)\n",
    "복소수, complex(complex number)\n",
    "\n",
    "코드 작성할 때 정수냐, 실수냐에 따라 결과가 완전히 달라 질 수 있고,\n",
    "눈에 잘 띄지 않는 버그가 되므로 주의.\n",
    "\n",
    "별표(*), 는 애스터리스크(asterisk)라고 읽는다.\n",
    "이중 별표(**), 더블 애스터리스크, 더블스타, 스택오버플로(stackoverflow.com)\n"
   ]
  },
  {
   "cell_type": "code",
   "execution_count": 2,
   "id": "d050d1eb",
   "metadata": {},
   "outputs": [
    {
     "name": "stdout",
     "output_type": "stream",
     "text": [
      "Hello, world!\n"
     ]
    }
   ],
   "source": [
    "print('Hello, world!')"
   ]
  },
  {
   "cell_type": "code",
   "execution_count": 3,
   "id": "fc6e9b58",
   "metadata": {},
   "outputs": [
    {
     "data": {
      "text/plain": [
       "2"
      ]
     },
     "execution_count": 3,
     "metadata": {},
     "output_type": "execute_result"
    }
   ],
   "source": [
    "1+1"
   ]
  },
  {
   "cell_type": "code",
   "execution_count": null,
   "id": "51517c7d",
   "metadata": {},
   "outputs": [],
   "source": [
    "5.1.5 값을 정수로 만들기\n",
    "\n",
    "int는 정수(integer)를 뜻하며, 값을 정수로 만들어 준다.(소수점 이하는 버림)\n",
    "\n",
    "int(숫자)\n",
    "int(계산식)\n",
    "int('문자열')\n",
    "\n",
    "5.1.6 객체의 자료형 알아내기\n",
    "\n",
    "type(값)\n",
    "\n",
    "객체의 타입(자료형)을 알아내는 함수이다. \n",
    ">>>type(10)\n",
    "<class 'int'>\n",
    "파이썬에서는 숫자도 객체(object)이고, \n",
    "객체는 class로 표현한다.\n",
    "\n",
    "5.2.2 값을 실수로 만들기\n",
    "\n",
    "float(숫자)\n",
    "float(계산식)\n",
    "float('문자열')\n"
   ]
  },
  {
   "cell_type": "code",
   "execution_count": 4,
   "id": "27ffc0fb",
   "metadata": {},
   "outputs": [
    {
     "data": {
      "text/plain": [
       "3"
      ]
     },
     "execution_count": 4,
     "metadata": {},
     "output_type": "execute_result"
    }
   ],
   "source": [
    "int(3.3)"
   ]
  },
  {
   "cell_type": "code",
   "execution_count": 5,
   "id": "007ca52a",
   "metadata": {},
   "outputs": [
    {
     "data": {
      "text/plain": [
       "int"
      ]
     },
     "execution_count": 5,
     "metadata": {},
     "output_type": "execute_result"
    }
   ],
   "source": [
    "type(10)"
   ]
  },
  {
   "cell_type": "code",
   "execution_count": null,
   "id": "80b966d3",
   "metadata": {},
   "outputs": [],
   "source": [
    "# 5.5 연습문제: 아파트에서 소음이 가장 심한 층수 출력하기\n",
    "\n",
    "소음이 가장 심한 층은 0.2467 * 도로와의 거리(m) + 4.159\n",
    "\n",
    "소음이 가장 심한 층수는?\n",
    "단, 층수를 출력할 때는 소수점 이하 자리는 버린다.(정수로 출력)\n",
    "- 도로와의 거리: 12m"
   ]
  },
  {
   "cell_type": "code",
   "execution_count": 23,
   "id": "28cfed35",
   "metadata": {},
   "outputs": [
    {
     "name": "stdout",
     "output_type": "stream",
     "text": [
      "소음이 가장 심한 층수는: 7\n"
     ]
    }
   ],
   "source": [
    "a = int(0.2467 * 12 + 4.159)\n",
    "print('소음이 가장 심한 층수는:', a)"
   ]
  },
  {
   "cell_type": "code",
   "execution_count": 19,
   "id": "7189f606",
   "metadata": {},
   "outputs": [
    {
     "data": {
      "text/plain": [
       "7"
      ]
     },
     "execution_count": 19,
     "metadata": {},
     "output_type": "execute_result"
    }
   ],
   "source": [
    "a"
   ]
  },
  {
   "cell_type": "code",
   "execution_count": 8,
   "id": "c5ead93d",
   "metadata": {},
   "outputs": [
    {
     "data": {
      "text/plain": [
       "float"
      ]
     },
     "execution_count": 8,
     "metadata": {},
     "output_type": "execute_result"
    }
   ],
   "source": [
    "type(0.2467 * 12 + 4.159)"
   ]
  },
  {
   "cell_type": "code",
   "execution_count": 11,
   "id": "32e70e33",
   "metadata": {},
   "outputs": [
    {
     "data": {
      "text/plain": [
       "7"
      ]
     },
     "execution_count": 11,
     "metadata": {},
     "output_type": "execute_result"
    }
   ],
   "source": [
    "int(0.2467 * 12 + 4.159)"
   ]
  },
  {
   "cell_type": "code",
   "execution_count": 12,
   "id": "2e5e601c",
   "metadata": {},
   "outputs": [
    {
     "data": {
      "text/plain": [
       "7.1194"
      ]
     },
     "execution_count": 12,
     "metadata": {},
     "output_type": "execute_result"
    }
   ],
   "source": [
    "0.2467 * 12 + 4.159"
   ]
  },
  {
   "cell_type": "code",
   "execution_count": null,
   "id": "01c0b778",
   "metadata": {},
   "outputs": [],
   "source": [
    "5.6 심사문제: 스킬 공격력 출력하기\n",
    "    \n",
    "스킬 AP * 0.6 + 225의 피해를 준다. \n",
    "스킬의 피해량이 출력되게 만드세요.\n",
    "AP: 102\n",
    "    "
   ]
  },
  {
   "cell_type": "code",
   "execution_count": 24,
   "id": "0ca86e0a",
   "metadata": {},
   "outputs": [
    {
     "data": {
      "text/plain": [
       "286.2"
      ]
     },
     "execution_count": 24,
     "metadata": {},
     "output_type": "execute_result"
    }
   ],
   "source": [
    "102 * 0.6 + 225"
   ]
  },
  {
   "cell_type": "code",
   "execution_count": 26,
   "id": "10179056",
   "metadata": {},
   "outputs": [
    {
     "name": "stdout",
     "output_type": "stream",
     "text": [
      "286.2\n"
     ]
    }
   ],
   "source": [
    "print(102 * 0.6 + 225)"
   ]
  }
 ],
 "metadata": {
  "kernelspec": {
   "display_name": "Python 3",
   "language": "python",
   "name": "python3"
  },
  "language_info": {
   "codemirror_mode": {
    "name": "ipython",
    "version": 3
   },
   "file_extension": ".py",
   "mimetype": "text/x-python",
   "name": "python",
   "nbconvert_exporter": "python",
   "pygments_lexer": "ipython3",
   "version": "3.8.8"
  }
 },
 "nbformat": 4,
 "nbformat_minor": 5
}
