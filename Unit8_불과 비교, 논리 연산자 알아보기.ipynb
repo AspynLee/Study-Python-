{
 "cells": [
  {
   "cell_type": "code",
   "execution_count": null,
   "id": "7a2be064",
   "metadata": {},
   "outputs": [],
   "source": [
    "값 자체를 비교 함.\n",
    "\n",
    "== 같다\n",
    "!= 다르다\n",
    "\n",
    "\n",
    "객체(object)를 비교 함.\n",
    "is\n",
    "is not "
   ]
  },
  {
   "cell_type": "code",
   "execution_count": 3,
   "id": "53d115f6",
   "metadata": {},
   "outputs": [
    {
     "data": {
      "text/plain": [
       "True"
      ]
     },
     "execution_count": 3,
     "metadata": {},
     "output_type": "execute_result"
    }
   ],
   "source": [
    "3 > 1"
   ]
  },
  {
   "cell_type": "code",
   "execution_count": 4,
   "id": "264484ad",
   "metadata": {},
   "outputs": [
    {
     "data": {
      "text/plain": [
       "True"
      ]
     },
     "execution_count": 4,
     "metadata": {},
     "output_type": "execute_result"
    }
   ],
   "source": [
    "10 == 10"
   ]
  },
  {
   "cell_type": "code",
   "execution_count": 5,
   "id": "a7461012",
   "metadata": {},
   "outputs": [
    {
     "data": {
      "text/plain": [
       "False"
      ]
     },
     "execution_count": 5,
     "metadata": {},
     "output_type": "execute_result"
    }
   ],
   "source": [
    "10 != 10"
   ]
  },
  {
   "cell_type": "code",
   "execution_count": 6,
   "id": "35f09c2d",
   "metadata": {},
   "outputs": [
    {
     "data": {
      "text/plain": [
       "True"
      ]
     },
     "execution_count": 6,
     "metadata": {},
     "output_type": "execute_result"
    }
   ],
   "source": [
    "10 != 5"
   ]
  },
  {
   "cell_type": "code",
   "execution_count": null,
   "id": "000d271c",
   "metadata": {},
   "outputs": [],
   "source": []
  },
  {
   "cell_type": "code",
   "execution_count": null,
   "id": "a6450fd6",
   "metadata": {},
   "outputs": [],
   "source": []
  },
  {
   "cell_type": "code",
   "execution_count": null,
   "id": "a137495a",
   "metadata": {},
   "outputs": [],
   "source": []
  },
  {
   "cell_type": "code",
   "execution_count": null,
   "id": "ecf5eb58",
   "metadata": {},
   "outputs": [],
   "source": []
  },
  {
   "cell_type": "code",
   "execution_count": null,
   "id": "197ab029",
   "metadata": {},
   "outputs": [],
   "source": []
  },
  {
   "cell_type": "code",
   "execution_count": null,
   "id": "43a27af0",
   "metadata": {},
   "outputs": [],
   "source": []
  },
  {
   "cell_type": "code",
   "execution_count": null,
   "id": "c6b54b65",
   "metadata": {},
   "outputs": [],
   "source": [
    "8.5 심사문제: 합격 여부 출력하기\n",
    "\n",
    "국어, 영어, 수학, 과학 점수가 입력 됨.\n",
    "4과목\n",
    "\n",
    "국어 90점 이상, \n",
    "영어 80점 초과,\n",
    "수학 85점 초과, \n",
    "과학 80점 이상\n",
    "\n",
    "합격\n",
    "\n",
    "한 과목이라도 조건에 만족하지 않으면 불합격\n",
    "\n",
    "합격 True,\n",
    "불합격 False\n",
    "\n",
    "국어 >= 90\n",
    "영어 > 80\n",
    "수학 > 85\n",
    "과학 >= 80\n"
   ]
  },
  {
   "cell_type": "code",
   "execution_count": null,
   "id": "ff7ba4dd",
   "metadata": {},
   "outputs": [],
   "source": [
    "a\n",
    "b\n",
    "c\n",
    "d\n",
    "(a+b+c+d)/4"
   ]
  },
  {
   "cell_type": "code",
   "execution_count": null,
   "id": "c56e422e",
   "metadata": {},
   "outputs": [],
   "source": [
    "a = int(a)\n",
    "b = int(b)\n",
    "c = int(c)\n",
    "d = int(d)\n"
   ]
  },
  {
   "cell_type": "code",
   "execution_count": null,
   "id": "79382f8a",
   "metadata": {},
   "outputs": [],
   "source": [
    "a, b, c, d = map(int, input('점수를 입력하세요: ').split())"
   ]
  },
  {
   "cell_type": "code",
   "execution_count": 14,
   "id": "358a20a9",
   "metadata": {},
   "outputs": [
    {
     "name": "stdout",
     "output_type": "stream",
     "text": [
      "90 75 75 80\n"
     ]
    },
    {
     "data": {
      "text/plain": [
       "True"
      ]
     },
     "execution_count": 14,
     "metadata": {},
     "output_type": "execute_result"
    }
   ],
   "source": [
    "a, b, c, d = map(int, input().split( ))\n",
    "\n",
    "a = int(a)\n",
    "b = int(b)\n",
    "c = int(c)\n",
    "d = int(d)\n",
    "\n",
    "a >= 90\n",
    "b > 80\n",
    "c > 85\n",
    "d >= 80\n"
   ]
  },
  {
   "cell_type": "code",
   "execution_count": 20,
   "id": "3510b3c9",
   "metadata": {},
   "outputs": [
    {
     "name": "stdout",
     "output_type": "stream",
     "text": [
      "30 80 85 80\n"
     ]
    },
    {
     "data": {
      "text/plain": [
       "True"
      ]
     },
     "execution_count": 20,
     "metadata": {},
     "output_type": "execute_result"
    }
   ],
   "source": [
    "a, b, c, d = map(int, input().split())\n",
    "\n",
    "a >= 90\n",
    "b > 80\n",
    "c > 85\n",
    "d >= 80\n"
   ]
  },
  {
   "cell_type": "code",
   "execution_count": 11,
   "id": "776cae16",
   "metadata": {},
   "outputs": [
    {
     "name": "stdout",
     "output_type": "stream",
     "text": [
      "90 90 90 90\n"
     ]
    },
    {
     "data": {
      "text/plain": [
       "True"
      ]
     },
     "execution_count": 11,
     "metadata": {},
     "output_type": "execute_result"
    }
   ],
   "source": [
    "a, b, c, d = input().split()\n",
    "\n",
    "a = int(a)\n",
    "b = int(b)\n",
    "c = int(c)\n",
    "d = int(d)\n",
    "\n",
    "a >= 90\n",
    "b > 80\n",
    "c > 85\n",
    "d >= 80\n"
   ]
  },
  {
   "cell_type": "code",
   "execution_count": 12,
   "id": "3de05fb0",
   "metadata": {},
   "outputs": [
    {
     "name": "stdout",
     "output_type": "stream",
     "text": [
      "90 75 90 80\n"
     ]
    },
    {
     "data": {
      "text/plain": [
       "True"
      ]
     },
     "execution_count": 12,
     "metadata": {},
     "output_type": "execute_result"
    }
   ],
   "source": [
    "a, b, c, d = input().split()\n",
    "\n",
    "a = int(a)\n",
    "b = int(b)\n",
    "c = int(c)\n",
    "d = int(d)\n",
    "\n",
    "a >= 90\n",
    "b > 80\n",
    "c > 85\n",
    "d >= 80"
   ]
  },
  {
   "cell_type": "code",
   "execution_count": 25,
   "id": "3b8548bf",
   "metadata": {},
   "outputs": [
    {
     "ename": "SyntaxError",
     "evalue": "invalid syntax (<ipython-input-25-bb21b429a34d>, line 1)",
     "output_type": "error",
     "traceback": [
      "\u001b[1;36m  File \u001b[1;32m\"<ipython-input-25-bb21b429a34d>\"\u001b[1;36m, line \u001b[1;32m1\u001b[0m\n\u001b[1;33m    print(a >= 90 and b > 80 and c > 85 and >= 80)\u001b[0m\n\u001b[1;37m                                            ^\u001b[0m\n\u001b[1;31mSyntaxError\u001b[0m\u001b[1;31m:\u001b[0m invalid syntax\n"
     ]
    }
   ],
   "source": [
    "print(a >= 90 and b > 80 and c > 85 and >= 80)\n",
    "\n",
    "True 합격\n",
    "False 불합격"
   ]
  },
  {
   "cell_type": "code",
   "execution_count": 21,
   "id": "529ab576",
   "metadata": {},
   "outputs": [
    {
     "name": "stdout",
     "output_type": "stream",
     "text": [
      "85 70 75 100\n",
      "False False False True\n"
     ]
    }
   ],
   "source": [
    "a, b, c, d = map(int, input().split())\n",
    "\n",
    "print(a >= 90, b > 80, c > 85, d >= 80)"
   ]
  },
  {
   "cell_type": "code",
   "execution_count": 26,
   "id": "34a1300d",
   "metadata": {},
   "outputs": [
    {
     "name": "stdout",
     "output_type": "stream",
     "text": [
      "90 80 85 100\n",
      "False\n"
     ]
    }
   ],
   "source": [
    "a, b, c, d = map(int, input().split())\n",
    "\n",
    "print(a >= 90 and b > 80 and c > 85 and d >= 80)"
   ]
  },
  {
   "cell_type": "code",
   "execution_count": null,
   "id": "9f117bb3",
   "metadata": {},
   "outputs": [],
   "source": []
  },
  {
   "cell_type": "code",
   "execution_count": null,
   "id": "0ffab38c",
   "metadata": {},
   "outputs": [],
   "source": []
  },
  {
   "cell_type": "code",
   "execution_count": null,
   "id": "7ceb5ea2",
   "metadata": {},
   "outputs": [],
   "source": []
  }
 ],
 "metadata": {
  "kernelspec": {
   "display_name": "Python 3",
   "language": "python",
   "name": "python3"
  },
  "language_info": {
   "codemirror_mode": {
    "name": "ipython",
    "version": 3
   },
   "file_extension": ".py",
   "mimetype": "text/x-python",
   "name": "python",
   "nbconvert_exporter": "python",
   "pygments_lexer": "ipython3",
   "version": "3.8.8"
  }
 },
 "nbformat": 4,
 "nbformat_minor": 5
}
