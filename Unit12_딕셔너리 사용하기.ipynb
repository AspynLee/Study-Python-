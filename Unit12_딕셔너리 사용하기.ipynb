{
 "cells": [
  {
   "cell_type": "code",
   "execution_count": 8,
   "id": "fe0185ee",
   "metadata": {},
   "outputs": [
    {
     "data": {
      "text/plain": [
       "{}"
      ]
     },
     "execution_count": 8,
     "metadata": {},
     "output_type": "execute_result"
    }
   ],
   "source": [
    "x = {}\n",
    "x"
   ]
  },
  {
   "cell_type": "code",
   "execution_count": 11,
   "id": "f31e6e55",
   "metadata": {},
   "outputs": [
    {
     "data": {
      "text/plain": [
       "{}"
      ]
     },
     "execution_count": 11,
     "metadata": {},
     "output_type": "execute_result"
    }
   ],
   "source": [
    "y = dict()\n",
    "y"
   ]
  },
  {
   "cell_type": "code",
   "execution_count": 12,
   "id": "88cda91e",
   "metadata": {},
   "outputs": [
    {
     "ename": "NameError",
     "evalue": "name '값1' is not defined",
     "output_type": "error",
     "traceback": [
      "\u001b[1;31m---------------------------------------------------------------------------\u001b[0m",
      "\u001b[1;31mNameError\u001b[0m                                 Traceback (most recent call last)",
      "\u001b[1;32m<ipython-input-12-71f638f8f45a>\u001b[0m in \u001b[0;36m<module>\u001b[1;34m\u001b[0m\n\u001b[1;32m----> 1\u001b[1;33m \u001b[0m딕셔너리\u001b[0m \u001b[1;33m=\u001b[0m \u001b[0mdict\u001b[0m\u001b[1;33m(\u001b[0m\u001b[0m키1\u001b[0m\u001b[1;33m=\u001b[0m\u001b[0m값1\u001b[0m\u001b[1;33m,\u001b[0m \u001b[0m키2\u001b[0m\u001b[1;33m=\u001b[0m\u001b[0m값2\u001b[0m\u001b[1;33m)\u001b[0m\u001b[1;33m\u001b[0m\u001b[1;33m\u001b[0m\u001b[0m\n\u001b[0m",
      "\u001b[1;31mNameError\u001b[0m: name '값1' is not defined"
     ]
    }
   ],
   "source": [
    "딕셔너리 = {키1: 값1, 키2: 값2}\n",
    "딕셔너리 = {}\n",
    "딕셔너리 = dict()\n",
    "\n",
    "딕셔너리 = dict(키1=값1, 키2=값2)\n",
    "딕셔너리 = dict(zip([키1, 키2], [값1, 값2]))\n",
    "딕셔너리 = dict([(키1, 값1), (키2, 값2)])\n",
    "딕셔너리 = dict({키1: 값1, 키2: 값2})\n",
    "\n",
    "딕셔너리[키]\n",
    "\n",
    "\n",
    "\n"
   ]
  },
  {
   "cell_type": "code",
   "execution_count": 14,
   "id": "407c5474",
   "metadata": {},
   "outputs": [],
   "source": [
    "lux1 = dict(health = 490, mana=334, melee=550, armor=18.72)"
   ]
  },
  {
   "cell_type": "code",
   "execution_count": 15,
   "id": "189c4a38",
   "metadata": {},
   "outputs": [
    {
     "data": {
      "text/plain": [
       "{'health': 490, 'mana': 334, 'melee': 550, 'armor': 18.72}"
      ]
     },
     "execution_count": 15,
     "metadata": {},
     "output_type": "execute_result"
    }
   ],
   "source": [
    "lux1"
   ]
  },
  {
   "cell_type": "code",
   "execution_count": 17,
   "id": "7df6e98b",
   "metadata": {},
   "outputs": [],
   "source": [
    "lux2 = dict(zip(['health', 'mana', 'melee', 'armor'], [490, 334, 550, 18.72])) # 리스트형식"
   ]
  },
  {
   "cell_type": "code",
   "execution_count": 18,
   "id": "78d2ddca",
   "metadata": {},
   "outputs": [
    {
     "data": {
      "text/plain": [
       "{'health': 490, 'mana': 334, 'melee': 550, 'armor': 18.72}"
      ]
     },
     "execution_count": 18,
     "metadata": {},
     "output_type": "execute_result"
    }
   ],
   "source": [
    "lux2"
   ]
  },
  {
   "cell_type": "code",
   "execution_count": 20,
   "id": "18858ada",
   "metadata": {},
   "outputs": [],
   "source": [
    "lux2_2 = dict(zip(('health', 'mana', 'melee', 'armor'), (490, 334, 550, 18.72))) # 튜플형식"
   ]
  },
  {
   "cell_type": "code",
   "execution_count": 21,
   "id": "81d4e455",
   "metadata": {},
   "outputs": [
    {
     "data": {
      "text/plain": [
       "{'health': 490, 'mana': 334, 'melee': 550, 'armor': 18.72}"
      ]
     },
     "execution_count": 21,
     "metadata": {},
     "output_type": "execute_result"
    }
   ],
   "source": [
    "lux2_2"
   ]
  },
  {
   "cell_type": "code",
   "execution_count": 22,
   "id": "dd3592d5",
   "metadata": {},
   "outputs": [
    {
     "name": "stdout",
     "output_type": "stream",
     "text": [
      "some texttxt\n"
     ]
    }
   ],
   "source": [
    "x = input('some text')"
   ]
  },
  {
   "cell_type": "code",
   "execution_count": 23,
   "id": "e0b94cc6",
   "metadata": {},
   "outputs": [
    {
     "name": "stdout",
     "output_type": "stream",
     "text": [
      "some text: txt\n"
     ]
    }
   ],
   "source": [
    "x = input('some text: ')"
   ]
  },
  {
   "cell_type": "code",
   "execution_count": 24,
   "id": "5c382287",
   "metadata": {},
   "outputs": [],
   "source": [
    "lux3 = dict([('health', 490), ('mana', 334), ('melee', 550), ('armor', 18.72)])"
   ]
  },
  {
   "cell_type": "code",
   "execution_count": 25,
   "id": "58c42c9a",
   "metadata": {},
   "outputs": [
    {
     "data": {
      "text/plain": [
       "{'health': 490, 'mana': 334, 'melee': 550, 'armor': 18.72}"
      ]
     },
     "execution_count": 25,
     "metadata": {},
     "output_type": "execute_result"
    }
   ],
   "source": [
    "lux3"
   ]
  },
  {
   "cell_type": "code",
   "execution_count": 26,
   "id": "75551619",
   "metadata": {},
   "outputs": [
    {
     "data": {
      "text/plain": [
       "dict"
      ]
     },
     "execution_count": 26,
     "metadata": {},
     "output_type": "execute_result"
    }
   ],
   "source": [
    "type(lux3)"
   ]
  },
  {
   "cell_type": "code",
   "execution_count": 27,
   "id": "7689c3cd",
   "metadata": {},
   "outputs": [],
   "source": [
    "lux4 = dict({'health': 490, 'mana': 334, 'melee': 550, 'armor': 18.72})"
   ]
  },
  {
   "cell_type": "code",
   "execution_count": 28,
   "id": "933c5c25",
   "metadata": {},
   "outputs": [
    {
     "data": {
      "text/plain": [
       "{'health': 490, 'mana': 334, 'melee': 550, 'armor': 18.72}"
      ]
     },
     "execution_count": 28,
     "metadata": {},
     "output_type": "execute_result"
    }
   ],
   "source": [
    "lux4"
   ]
  },
  {
   "cell_type": "code",
   "execution_count": 29,
   "id": "fab5dc50",
   "metadata": {},
   "outputs": [],
   "source": [
    "lux = {'health': 490, 'mana': 334, 'melee': 550, 'armor': 18.72}"
   ]
  },
  {
   "cell_type": "code",
   "execution_count": 31,
   "id": "bb51ec04",
   "metadata": {},
   "outputs": [
    {
     "data": {
      "text/plain": [
       "490"
      ]
     },
     "execution_count": 31,
     "metadata": {},
     "output_type": "execute_result"
    }
   ],
   "source": [
    "lux['health']"
   ]
  },
  {
   "cell_type": "code",
   "execution_count": null,
   "id": "81ccee24",
   "metadata": {},
   "outputs": [],
   "source": []
  },
  {
   "cell_type": "code",
   "execution_count": null,
   "id": "149d9aa9",
   "metadata": {},
   "outputs": [],
   "source": []
  },
  {
   "cell_type": "code",
   "execution_count": null,
   "id": "a967e879",
   "metadata": {},
   "outputs": [],
   "source": []
  },
  {
   "cell_type": "code",
   "execution_count": null,
   "id": "05edae86",
   "metadata": {},
   "outputs": [],
   "source": []
  },
  {
   "cell_type": "code",
   "execution_count": null,
   "id": "fb66be62",
   "metadata": {},
   "outputs": [],
   "source": []
  },
  {
   "cell_type": "code",
   "execution_count": null,
   "id": "bdb216a9",
   "metadata": {},
   "outputs": [],
   "source": []
  },
  {
   "cell_type": "code",
   "execution_count": null,
   "id": "78ed72e6",
   "metadata": {},
   "outputs": [],
   "source": [
    "12.5 심사문제: 딕셔너리에 게임 캐릭터 능력치 저장하기\n",
    "\n",
    "표준 입력으로 문자열 여러 개와 숫자(실수) 여러 개가 두 줄로 입력됩니다.\n",
    "입력된 첫 번째 줄은 키, 두 번째 줄은 값으로 하여 딕셔너리를 생성한 뒤 딕셔너리를 출력하는 프로그램을 만드세요.\n",
    "input().split()의 결과를 변수 한 개에 저장하면 리스트로 저장됩니다.\n",
    "\n",
    "\n",
    "\n"
   ]
  },
  {
   "cell_type": "code",
   "execution_count": null,
   "id": "d7a220d7",
   "metadata": {},
   "outputs": [],
   "source": [
    "x = input().split()\n",
    "y = input().split()\n",
    "\n",
    "\n",
    "l = x : y\n",
    "    \n"
   ]
  },
  {
   "cell_type": "code",
   "execution_count": 1,
   "id": "3b115416",
   "metadata": {},
   "outputs": [
    {
     "name": "stdout",
     "output_type": "stream",
     "text": [
      "health\n",
      "{'health': 575.6, 'health_regen': 1.7, 'mana': 338.8, 'mana_regen': 1.63}\n"
     ]
    }
   ],
   "source": [
    "d = {'health' : 575.6, 'health_regen' : 1.7, 'mana' : 338.8, 'mana_regen' : 1.63}\n",
    "x = input().split()\n",
    "print(d)"
   ]
  }
 ],
 "metadata": {
  "kernelspec": {
   "display_name": "Python 3",
   "language": "python",
   "name": "python3"
  },
  "language_info": {
   "codemirror_mode": {
    "name": "ipython",
    "version": 3
   },
   "file_extension": ".py",
   "mimetype": "text/x-python",
   "name": "python",
   "nbconvert_exporter": "python",
   "pygments_lexer": "ipython3",
   "version": "3.8.8"
  }
 },
 "nbformat": 4,
 "nbformat_minor": 5
}
