{
 "cells": [
  {
   "cell_type": "code",
   "execution_count": 4,
   "id": "fee003e6",
   "metadata": {},
   "outputs": [],
   "source": [
    "x = [1,2, 3, 4, 5, 6, 7, 9]"
   ]
  },
  {
   "cell_type": "code",
   "execution_count": 1,
   "id": "1b861d9e",
   "metadata": {},
   "outputs": [
    {
     "ename": "NameError",
     "evalue": "name 'x' is not defined",
     "output_type": "error",
     "traceback": [
      "\u001b[1;31m---------------------------------------------------------------------------\u001b[0m",
      "\u001b[1;31mNameError\u001b[0m                                 Traceback (most recent call last)",
      "\u001b[1;32m<ipython-input-1-6d7ac8e32acb>\u001b[0m in \u001b[0;36m<module>\u001b[1;34m\u001b[0m\n\u001b[1;32m----> 1\u001b[1;33m \u001b[1;32mif\u001b[0m \u001b[0mx\u001b[0m \u001b[1;33m==\u001b[0m \u001b[1;36m10\u001b[0m\u001b[1;33m:\u001b[0m\u001b[1;33m\u001b[0m\u001b[1;33m\u001b[0m\u001b[0m\n\u001b[0m\u001b[0;32m      2\u001b[0m     \u001b[0mprint\u001b[0m\u001b[1;33m(\u001b[0m\u001b[1;34m'10입니다ㅏ.'\u001b[0m\u001b[1;33m)\u001b[0m\u001b[1;33m\u001b[0m\u001b[1;33m\u001b[0m\u001b[0m\n",
      "\u001b[1;31mNameError\u001b[0m: name 'x' is not defined"
     ]
    }
   ],
   "source": [
    "if x == 10:\n",
    "    print('10입니다.')\n",
    "    \n",
    "if x == 10:\n",
    "    print('10입니다.')\n",
    "    "
   ]
  },
  {
   "cell_type": "code",
   "execution_count": null,
   "id": "593543c6",
   "metadata": {},
   "outputs": [],
   "source": [
    "13.7 심사문제: 온라인 할인 쿠폰 시스템 만들기\n",
    "    \n",
    "표준 입력으로 가격(정수)과 쿠폰 이름이 각 줄에 입력됩니다. Cash3000 쿠폰은 3,000원,Cash5000 쿠폰은 5,000원을 할인합니다.\n",
    "쿠폰에 따라 할인된 가격을 출력하는 프로그램을 만드세요(input에서 안내 문자열은 출력하지 않아야 합니다.)\n",
    "\n",
    "표준입력\n",
    "\n",
    "27000\n",
    "Cash3000\n"
   ]
  },
  {
   "cell_type": "code",
   "execution_count": 12,
   "id": "3c39c655",
   "metadata": {},
   "outputs": [
    {
     "name": "stdout",
     "output_type": "stream",
     "text": [
      "Cash3000\n",
      "2700\n"
     ]
    },
    {
     "ename": "TypeError",
     "evalue": "unsupported operand type(s) for -: 'str' and 'int'",
     "output_type": "error",
     "traceback": [
      "\u001b[1;31m---------------------------------------------------------------------------\u001b[0m",
      "\u001b[1;31mTypeError\u001b[0m                                 Traceback (most recent call last)",
      "\u001b[1;32m<ipython-input-12-bf699c86bdbe>\u001b[0m in \u001b[0;36m<module>\u001b[1;34m\u001b[0m\n\u001b[0;32m      7\u001b[0m     \u001b[0mint\u001b[0m\u001b[1;33m(\u001b[0m\u001b[0my\u001b[0m \u001b[1;33m-\u001b[0m \u001b[1;36m3000\u001b[0m\u001b[1;33m)\u001b[0m\u001b[1;33m\u001b[0m\u001b[1;33m\u001b[0m\u001b[0m\n\u001b[0;32m      8\u001b[0m \u001b[1;33m\u001b[0m\u001b[0m\n\u001b[1;32m----> 9\u001b[1;33m \u001b[0mprint\u001b[0m\u001b[1;33m(\u001b[0m\u001b[0mint\u001b[0m\u001b[1;33m(\u001b[0m\u001b[0my\u001b[0m \u001b[1;33m-\u001b[0m \u001b[1;36m3000\u001b[0m\u001b[1;33m)\u001b[0m\u001b[1;33m)\u001b[0m\u001b[1;33m\u001b[0m\u001b[1;33m\u001b[0m\u001b[0m\n\u001b[0m\u001b[0;32m     10\u001b[0m \u001b[1;33m\u001b[0m\u001b[0m\n",
      "\u001b[1;31mTypeError\u001b[0m: unsupported operand type(s) for -: 'str' and 'int'"
     ]
    }
   ],
   "source": [
    "# input().split()\n",
    "\n",
    "x = input().split()\n",
    "y = input()\n",
    "\n",
    "if x == 'Cash3000':\n",
    "    int(y - 3000)\n",
    "    \n",
    "print(int(y - 3000))\n",
    "\n",
    "\n",
    "\n",
    "if x == 'Cash3000':\n",
    "    int(y - 3000)\n",
    "\n",
    "print(int(y - 3000))\n",
    "\n"
   ]
  },
  {
   "cell_type": "code",
   "execution_count": 24,
   "id": "322182be",
   "metadata": {},
   "outputs": [
    {
     "name": "stdout",
     "output_type": "stream",
     "text": [
      "Cash3000\n",
      "30000\n"
     ]
    }
   ],
   "source": [
    "x = input().split()\n",
    "y = int(input())\n",
    "\n",
    "if x == 'Cash3000':\n",
    "    print(int(y - 3000))\n",
    "\n",
    "if x =='Cash5000':\n",
    "    print(int(y - 5000))\n",
    "\n",
    "\n"
   ]
  },
  {
   "cell_type": "code",
   "execution_count": 26,
   "id": "b19fce70",
   "metadata": {},
   "outputs": [
    {
     "name": "stdout",
     "output_type": "stream",
     "text": [
      "Cash3000\n",
      "30000\n"
     ]
    }
   ],
   "source": [
    "x = input().split()\n",
    "y = int(input())\n",
    "\n",
    "if x == 'Cash3000':\n",
    "    print(y - 3000)\n",
    "\n",
    "\n"
   ]
  },
  {
   "cell_type": "code",
   "execution_count": null,
   "id": "c4c01401",
   "metadata": {},
   "outputs": [],
   "source": [
    "x = input().split()\n",
    "y = int(input())\n",
    "\n",
    "if x == 'Cash3000':\n",
    "    int(y - 3000)\n",
    "    \n",
    "print(int(y - 3000))\n",
    "\n",
    "\n"
   ]
  },
  {
   "cell_type": "code",
   "execution_count": 29,
   "id": "55c09dbf",
   "metadata": {},
   "outputs": [
    {
     "name": "stdout",
     "output_type": "stream",
     "text": [
      "30000\n",
      "Cash3000\n",
      "27000\n"
     ]
    }
   ],
   "source": [
    "x = int(input())\n",
    "y = input()\n",
    "\n",
    "if y == 'Cash3000':\n",
    "    print(x - 3000)"
   ]
  },
  {
   "cell_type": "code",
   "execution_count": 30,
   "id": "fe9d9455",
   "metadata": {},
   "outputs": [
    {
     "name": "stdout",
     "output_type": "stream",
     "text": [
      "5000\n",
      "Cash3000\n",
      "2000\n"
     ]
    }
   ],
   "source": [
    "x = int(input())\n",
    "y = input()\n",
    "\n",
    "if y == 'Cash3000':\n",
    "    print(x - 3000)"
   ]
  },
  {
   "cell_type": "code",
   "execution_count": 31,
   "id": "ccdaa5a3",
   "metadata": {},
   "outputs": [
    {
     "name": "stdout",
     "output_type": "stream",
     "text": [
      "60000\n",
      "Cash5000\n",
      "55000\n"
     ]
    }
   ],
   "source": [
    "x = int(input())\n",
    "y = input()\n",
    "\n",
    "if y == 'Cash3000':\n",
    "    print(x - 3000)\n",
    "    \n",
    "if y == 'Cash5000':\n",
    "    print(x - 5000)"
   ]
  },
  {
   "cell_type": "code",
   "execution_count": 32,
   "id": "438d90b9",
   "metadata": {},
   "outputs": [
    {
     "name": "stdout",
     "output_type": "stream",
     "text": [
      "50000\n",
      "Cash3000\n",
      "47000\n"
     ]
    }
   ],
   "source": [
    "x = int(input())\n",
    "y = input()\n",
    "\n",
    "if y == 'Cash3000':\n",
    "    print(x - 3000)\n",
    "    \n",
    "if y == 'Cash5000':\n",
    "    print(x - 5000)"
   ]
  },
  {
   "cell_type": "code",
   "execution_count": 33,
   "id": "b18ce516",
   "metadata": {},
   "outputs": [
    {
     "name": "stdout",
     "output_type": "stream",
     "text": [
      "50000\n"
     ]
    },
    {
     "ename": "AttributeError",
     "evalue": "'int' object has no attribute 'split'",
     "output_type": "error",
     "traceback": [
      "\u001b[1;31m---------------------------------------------------------------------------\u001b[0m",
      "\u001b[1;31mAttributeError\u001b[0m                            Traceback (most recent call last)",
      "\u001b[1;32m<ipython-input-33-771942496417>\u001b[0m in \u001b[0;36m<module>\u001b[1;34m\u001b[0m\n\u001b[1;32m----> 1\u001b[1;33m \u001b[0mx\u001b[0m \u001b[1;33m=\u001b[0m \u001b[0mint\u001b[0m\u001b[1;33m(\u001b[0m\u001b[0minput\u001b[0m\u001b[1;33m(\u001b[0m\u001b[1;33m)\u001b[0m\u001b[1;33m)\u001b[0m\u001b[1;33m.\u001b[0m\u001b[0msplit\u001b[0m\u001b[1;33m(\u001b[0m\u001b[1;33m)\u001b[0m\u001b[1;33m\u001b[0m\u001b[1;33m\u001b[0m\u001b[0m\n\u001b[0m\u001b[0;32m      2\u001b[0m \u001b[0my\u001b[0m \u001b[1;33m=\u001b[0m \u001b[0minput\u001b[0m\u001b[1;33m(\u001b[0m\u001b[1;33m)\u001b[0m\u001b[1;33m\u001b[0m\u001b[1;33m\u001b[0m\u001b[0m\n\u001b[0;32m      3\u001b[0m \u001b[1;33m\u001b[0m\u001b[0m\n\u001b[0;32m      4\u001b[0m \u001b[1;32mif\u001b[0m \u001b[0my\u001b[0m \u001b[1;33m==\u001b[0m \u001b[1;34m'Cash3000'\u001b[0m\u001b[1;33m:\u001b[0m\u001b[1;33m\u001b[0m\u001b[1;33m\u001b[0m\u001b[0m\n\u001b[0;32m      5\u001b[0m     \u001b[0mprint\u001b[0m\u001b[1;33m(\u001b[0m\u001b[0mx\u001b[0m \u001b[1;33m-\u001b[0m \u001b[1;36m3000\u001b[0m\u001b[1;33m)\u001b[0m\u001b[1;33m\u001b[0m\u001b[1;33m\u001b[0m\u001b[0m\n",
      "\u001b[1;31mAttributeError\u001b[0m: 'int' object has no attribute 'split'"
     ]
    }
   ],
   "source": [
    "x = int(input()).split()\n",
    "y = input()\n",
    "\n",
    "if y == 'Cash3000':\n",
    "    print(x - 3000)\n",
    "    \n",
    "if y == 'Cash5000':\n",
    "    print(x - 5000)"
   ]
  },
  {
   "cell_type": "code",
   "execution_count": 34,
   "id": "d4709ee8",
   "metadata": {},
   "outputs": [
    {
     "name": "stdout",
     "output_type": "stream",
     "text": [
      "100000\n",
      "Cash5000\n",
      "95000\n"
     ]
    }
   ],
   "source": [
    "x = int(input())\n",
    "y = input()\n",
    "\n",
    "if y == 'Cash3000':\n",
    "    print(x - 3000)\n",
    "    \n",
    "if y == 'Cash5000':\n",
    "    print(x - 5000)\n",
    "    \n",
    "    \n",
    "    \n",
    "    \n",
    "if y == 'Cash3000':\n",
    "    print(x - 3000)"
   ]
  },
  {
   "cell_type": "code",
   "execution_count": 37,
   "id": "cb3a8ecd",
   "metadata": {},
   "outputs": [
    {
     "name": "stdout",
     "output_type": "stream",
     "text": [
      "40000\n",
      "Cash3000\n",
      "37000\n"
     ]
    }
   ],
   "source": [
    "x = int(input())\n",
    "y = input()\n",
    "\n",
    "if y == 'Cash3000':\n",
    "    print(x - 3000)\n",
    "    \n",
    "    if y == 'Cash5000':\n",
    "        print(x - 5000)"
   ]
  },
  {
   "cell_type": "code",
   "execution_count": 36,
   "id": "39d79bf8",
   "metadata": {},
   "outputs": [
    {
     "name": "stdout",
     "output_type": "stream",
     "text": [
      "40000\n",
      "Cash5000\n",
      "35000\n"
     ]
    }
   ],
   "source": [
    "x = int(input())\n",
    "y = input()\n",
    "\n",
    "if y == 'Cash3000':\n",
    "    print(x - 3000)\n",
    "    \n",
    "if y == 'Cash5000':\n",
    "    print(x - 5000)\n",
    "    \n",
    "\n"
   ]
  },
  {
   "cell_type": "code",
   "execution_count": null,
   "id": "24306ab3",
   "metadata": {},
   "outputs": [],
   "source": [
    "if (x==)"
   ]
  },
  {
   "cell_type": "code",
   "execution_count": 13,
   "id": "849c9280",
   "metadata": {},
   "outputs": [
    {
     "name": "stdout",
     "output_type": "stream",
     "text": [
      "10입니다\n"
     ]
    }
   ],
   "source": [
    "x = 10\n",
    "if x == 10:\n",
    "    print('10입니다')\n",
    "    "
   ]
  },
  {
   "cell_type": "code",
   "execution_count": 42,
   "id": "4c6b51b6",
   "metadata": {},
   "outputs": [
    {
     "name": "stdout",
     "output_type": "stream",
     "text": [
      "10\n",
      "10입니다.\n"
     ]
    }
   ],
   "source": [
    "x = int(input())\n",
    "\n",
    "if x == 10:\n",
    "    print('10입니다.')\n",
    "    \n",
    "if x == 20:\n",
    "    print('20입니다.')"
   ]
  },
  {
   "cell_type": "code",
   "execution_count": null,
   "id": "68da3bc7",
   "metadata": {},
   "outputs": [],
   "source": []
  },
  {
   "cell_type": "code",
   "execution_count": null,
   "id": "07206d46",
   "metadata": {},
   "outputs": [],
   "source": []
  },
  {
   "cell_type": "code",
   "execution_count": null,
   "id": "034ec90b",
   "metadata": {},
   "outputs": [],
   "source": []
  },
  {
   "cell_type": "code",
   "execution_count": null,
   "id": "04a97f14",
   "metadata": {},
   "outputs": [],
   "source": []
  },
  {
   "cell_type": "code",
   "execution_count": null,
   "id": "c70b1b5a",
   "metadata": {},
   "outputs": [],
   "source": []
  },
  {
   "cell_type": "code",
   "execution_count": null,
   "id": "7a8955ce",
   "metadata": {},
   "outputs": [],
   "source": []
  },
  {
   "cell_type": "code",
   "execution_count": null,
   "id": "e8e93a28",
   "metadata": {},
   "outputs": [],
   "source": []
  }
 ],
 "metadata": {
  "kernelspec": {
   "display_name": "Python 3",
   "language": "python",
   "name": "python3"
  },
  "language_info": {
   "codemirror_mode": {
    "name": "ipython",
    "version": 3
   },
   "file_extension": ".py",
   "mimetype": "text/x-python",
   "name": "python",
   "nbconvert_exporter": "python",
   "pygments_lexer": "ipython3",
   "version": "3.8.8"
  }
 },
 "nbformat": 4,
 "nbformat_minor": 5
}
