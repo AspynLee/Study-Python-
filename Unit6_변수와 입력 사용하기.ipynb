{
 "cells": [
  {
   "cell_type": "code",
   "execution_count": null,
   "id": "36ca4757",
   "metadata": {},
   "outputs": [],
   "source": [
    "x = 10, \n",
    "변수이름, 값(10)\n",
    "\n",
    "변수이름 = 값\n",
    "\n",
    "= -> 할당 한다 \n",
    "\n",
    "값이 할당(저장)된다.\n",
    "프로그래밍 언어에서 = 는 변수에 값을 할당(assignment)한다 의미.\n",
    "수학의 등호와 같은 역할을 하는 연산자는 == 이다.\n",
    "\n",
    "\n",
    "수학 = -> ==\n",
    "코딩 = -> 변수에 값을 할당하다\n",
    "\n",
    "변수이름 규칙\n",
    "영문 문자와 숫자를 사용\n",
    "대소문자 구분\n",
    "문자부터 시작해야 하며 숫자부터 시작 안됨\n",
    "_(밑줄 문자)로 시작할 수 있음\n",
    "특수문자는 사용할 수 없음.(+, -, *, /, $, @, &, %)\n",
    "파이썬의 키워드는 사용할 수 없음. (if, for, while, and, or등)\n",
    "\n"
   ]
  },
  {
   "cell_type": "code",
   "execution_count": null,
   "id": "1841ce78",
   "metadata": {},
   "outputs": [],
   "source": [
    "6.1.1 변수의 자료형 알아내기\n",
    "\n",
    "type(변수)\n",
    "\n",
    "int 정수(integer)\n",
    "str 문자열(string)\n"
   ]
  },
  {
   "cell_type": "code",
   "execution_count": null,
   "id": "d4ddf02e",
   "metadata": {},
   "outputs": [],
   "source": [
    "6.1.2 변수 여러 개를 한 번에 만들기\n",
    "\n",
    "변수와 값의 개수는 동일하게 맞춰주어야 하며, 나열된 순서대로 값이 할당 된다.\n",
    "\n",
    "변수 여러 개 만들 때 값이 모두 같아도 된다면 다음과 같은 방식도 사용할 수 있음.\n",
    "x = y = z = 10\n"
   ]
  },
  {
   "cell_type": "code",
   "execution_count": 2,
   "id": "e5221772",
   "metadata": {},
   "outputs": [],
   "source": [
    "x, y, z = 10, 20, 30"
   ]
  },
  {
   "cell_type": "code",
   "execution_count": 3,
   "id": "f2cd51c6",
   "metadata": {},
   "outputs": [
    {
     "data": {
      "text/plain": [
       "10"
      ]
     },
     "execution_count": 3,
     "metadata": {},
     "output_type": "execute_result"
    }
   ],
   "source": [
    "x"
   ]
  },
  {
   "cell_type": "code",
   "execution_count": 4,
   "id": "20e7dcfe",
   "metadata": {},
   "outputs": [
    {
     "data": {
      "text/plain": [
       "20"
      ]
     },
     "execution_count": 4,
     "metadata": {},
     "output_type": "execute_result"
    }
   ],
   "source": [
    "y"
   ]
  },
  {
   "cell_type": "code",
   "execution_count": 5,
   "id": "e6c885c6",
   "metadata": {},
   "outputs": [
    {
     "data": {
      "text/plain": [
       "30"
      ]
     },
     "execution_count": 5,
     "metadata": {},
     "output_type": "execute_result"
    }
   ],
   "source": [
    "z"
   ]
  },
  {
   "cell_type": "code",
   "execution_count": 7,
   "id": "ef17f5b8",
   "metadata": {},
   "outputs": [],
   "source": [
    "x = y = z = 10"
   ]
  },
  {
   "cell_type": "code",
   "execution_count": 8,
   "id": "2895993c",
   "metadata": {},
   "outputs": [
    {
     "data": {
      "text/plain": [
       "10"
      ]
     },
     "execution_count": 8,
     "metadata": {},
     "output_type": "execute_result"
    }
   ],
   "source": [
    "x"
   ]
  },
  {
   "cell_type": "code",
   "execution_count": 10,
   "id": "0ea4cda4",
   "metadata": {},
   "outputs": [
    {
     "data": {
      "text/plain": [
       "10"
      ]
     },
     "execution_count": 10,
     "metadata": {},
     "output_type": "execute_result"
    }
   ],
   "source": [
    "y"
   ]
  },
  {
   "cell_type": "code",
   "execution_count": 11,
   "id": "44a87814",
   "metadata": {},
   "outputs": [
    {
     "data": {
      "text/plain": [
       "10"
      ]
     },
     "execution_count": 11,
     "metadata": {},
     "output_type": "execute_result"
    }
   ],
   "source": [
    "z"
   ]
  },
  {
   "cell_type": "code",
   "execution_count": 12,
   "id": "693f063c",
   "metadata": {},
   "outputs": [],
   "source": [
    "x, y = 10, 20\n",
    "x ,y = y, x"
   ]
  },
  {
   "cell_type": "code",
   "execution_count": 14,
   "id": "c4689201",
   "metadata": {},
   "outputs": [
    {
     "data": {
      "text/plain": [
       "20"
      ]
     },
     "execution_count": 14,
     "metadata": {},
     "output_type": "execute_result"
    }
   ],
   "source": [
    "x"
   ]
  },
  {
   "cell_type": "code",
   "execution_count": 15,
   "id": "2aa53b8f",
   "metadata": {},
   "outputs": [
    {
     "data": {
      "text/plain": [
       "10"
      ]
     },
     "execution_count": 15,
     "metadata": {},
     "output_type": "execute_result"
    }
   ],
   "source": [
    "y"
   ]
  },
  {
   "cell_type": "code",
   "execution_count": null,
   "id": "f1e38766",
   "metadata": {},
   "outputs": [],
   "source": [
    "변수 삭제는 del을 사용 한다.\n",
    "del 변수\n",
    "\n",
    "빈 변수 만들기\n",
    "\n",
    "x = None\n",
    "print(x)\n",
    "\n",
    "None 아무것도 없는 상태를 나타내는 자료형\n",
    "보통 다른 언어에서는 널(null) 이라고 표현 함.\n"
   ]
  },
  {
   "cell_type": "code",
   "execution_count": 16,
   "id": "ca5ab392",
   "metadata": {},
   "outputs": [
    {
     "name": "stdout",
     "output_type": "stream",
     "text": [
      "None\n"
     ]
    }
   ],
   "source": [
    "x = None\n",
    "print(x)"
   ]
  },
  {
   "cell_type": "code",
   "execution_count": null,
   "id": "6d653f3b",
   "metadata": {},
   "outputs": [],
   "source": [
    "6.2 변수로 계산하기\n",
    ">>>a = 10\n",
    ">>>b = 20\n",
    ">>>c = a + b\n",
    ">>>c\n",
    "30\n",
    "\n",
    "변수는 변수끼리 계산할 수 있고, 계산 결과를 다른 변수에 할당할 수 있음."
   ]
  },
  {
   "cell_type": "code",
   "execution_count": 18,
   "id": "f8f7de2a",
   "metadata": {},
   "outputs": [
    {
     "data": {
      "text/plain": [
       "30"
      ]
     },
     "execution_count": 18,
     "metadata": {},
     "output_type": "execute_result"
    }
   ],
   "source": [
    "a = 10\n",
    "b = 20\n",
    "c = a + b\n",
    "c"
   ]
  },
  {
   "cell_type": "code",
   "execution_count": null,
   "id": "6aa04ef0",
   "metadata": {},
   "outputs": [],
   "source": [
    "6.2.1 산술 연산 후 할당 연산자 사용하기\n",
    "\n",
    "변수 한 개에서 값의 변화를 계속 유지하려면 계산 결과를 다시 변수에 저장해야 함.\n",
    "\n"
   ]
  },
  {
   "cell_type": "code",
   "execution_count": 19,
   "id": "c7e56624",
   "metadata": {},
   "outputs": [
    {
     "data": {
      "text/plain": [
       "30"
      ]
     },
     "execution_count": 19,
     "metadata": {},
     "output_type": "execute_result"
    }
   ],
   "source": [
    "a = 10\n",
    "a + 20"
   ]
  },
  {
   "cell_type": "code",
   "execution_count": 21,
   "id": "7c08aaca",
   "metadata": {},
   "outputs": [
    {
     "data": {
      "text/plain": [
       "10"
      ]
     },
     "execution_count": 21,
     "metadata": {},
     "output_type": "execute_result"
    }
   ],
   "source": [
    "a"
   ]
  },
  {
   "cell_type": "code",
   "execution_count": 22,
   "id": "35ade793",
   "metadata": {},
   "outputs": [
    {
     "data": {
      "text/plain": [
       "30"
      ]
     },
     "execution_count": 22,
     "metadata": {},
     "output_type": "execute_result"
    }
   ],
   "source": [
    "a = 10\n",
    "a = a + 20 # a와 20을 더한 후 결과를 다시 a에 저장\n",
    "a"
   ]
  },
  {
   "cell_type": "code",
   "execution_count": 23,
   "id": "4b886c4a",
   "metadata": {},
   "outputs": [
    {
     "data": {
      "text/plain": [
       "30"
      ]
     },
     "execution_count": 23,
     "metadata": {},
     "output_type": "execute_result"
    }
   ],
   "source": [
    "a"
   ]
  },
  {
   "cell_type": "code",
   "execution_count": 24,
   "id": "ccf1576c",
   "metadata": {},
   "outputs": [
    {
     "data": {
      "text/plain": [
       "30"
      ]
     },
     "execution_count": 24,
     "metadata": {},
     "output_type": "execute_result"
    }
   ],
   "source": [
    "a = 10\n",
    "a += 20 # a와 20을 더한 후 결과를 다시 a에 저장\n",
    "a"
   ]
  },
  {
   "cell_type": "code",
   "execution_count": null,
   "id": "b296d743",
   "metadata": {},
   "outputs": [],
   "source": [
    "연산 후 할당(=)한다는 뜻. \n",
    "연산(-, *, /, //)후 할당(=)한다는 뜻. \n",
    "+=, -=, *=, 나눗셈(/=, //=), 나머지(%=)"
   ]
  },
  {
   "cell_type": "code",
   "execution_count": null,
   "id": "e170880f",
   "metadata": {},
   "outputs": [],
   "source": [
    "부호 붙이기,\n",
    "x = -10\n",
    "+x"
   ]
  },
  {
   "cell_type": "code",
   "execution_count": 25,
   "id": "0aac3b74",
   "metadata": {},
   "outputs": [
    {
     "data": {
      "text/plain": [
       "-10"
      ]
     },
     "execution_count": 25,
     "metadata": {},
     "output_type": "execute_result"
    }
   ],
   "source": [
    "x = -10\n",
    "+x"
   ]
  },
  {
   "cell_type": "code",
   "execution_count": 26,
   "id": "81466392",
   "metadata": {},
   "outputs": [
    {
     "data": {
      "text/plain": [
       "10"
      ]
     },
     "execution_count": 26,
     "metadata": {},
     "output_type": "execute_result"
    }
   ],
   "source": [
    "x = -10\n",
    "-x"
   ]
  },
  {
   "cell_type": "code",
   "execution_count": null,
   "id": "25a2e36c",
   "metadata": {},
   "outputs": [],
   "source": [
    "6.3.1 input 함수 사용하기\n",
    "매번 다른 값을 변수에 할당!!!\n",
    "사용자가 이렵학한 값을 가져오는 함수\n",
    "\n",
    "input()\n",
    "\n"
   ]
  },
  {
   "cell_type": "code",
   "execution_count": 28,
   "id": "cb72c1fd",
   "metadata": {},
   "outputs": [
    {
     "name": "stdout",
     "output_type": "stream",
     "text": [
      "Hello, world!\n"
     ]
    },
    {
     "data": {
      "text/plain": [
       "'Hello, world!'"
      ]
     },
     "execution_count": 28,
     "metadata": {},
     "output_type": "execute_result"
    }
   ],
   "source": [
    "input()"
   ]
  },
  {
   "cell_type": "code",
   "execution_count": 29,
   "id": "1de6dd75",
   "metadata": {},
   "outputs": [
    {
     "name": "stdout",
     "output_type": "stream",
     "text": [
      "Hello, world!\n"
     ]
    }
   ],
   "source": [
    "변수 = input()"
   ]
  },
  {
   "cell_type": "code",
   "execution_count": 31,
   "id": "37cf3d6e",
   "metadata": {},
   "outputs": [
    {
     "name": "stdout",
     "output_type": "stream",
     "text": [
      "문자열go\n"
     ]
    }
   ],
   "source": [
    "변수 = input('문자열')"
   ]
  },
  {
   "cell_type": "code",
   "execution_count": 32,
   "id": "634a9aaa",
   "metadata": {},
   "outputs": [
    {
     "name": "stdout",
     "output_type": "stream",
     "text": [
      "문자열을 입력하세요: a\n"
     ]
    }
   ],
   "source": [
    "x = input('문자열을 입력하세요: ')"
   ]
  },
  {
   "cell_type": "code",
   "execution_count": null,
   "id": "102df0d7",
   "metadata": {},
   "outputs": [],
   "source": [
    "여기에 문자열을 입력한 뒤 엔터 키를 누르면 입력한 그대로 출력된다.\n",
    "즉, 이 문자열은 사용자에게 입력받는 값의 용도를 미리 알려 줄 때 사용한다. \n",
    "다른 말로는 프롬프트(prompt)라고도 부른다. \n",
    "파이썬 프롬프트 >>> 와 같은 의미이다."
   ]
  },
  {
   "cell_type": "code",
   "execution_count": null,
   "id": "841e5368",
   "metadata": {},
   "outputs": [],
   "source": [
    "6.3.3 두 숫자의 합 구하기\n"
   ]
  },
  {
   "cell_type": "code",
   "execution_count": 33,
   "id": "b64992cc",
   "metadata": {},
   "outputs": [
    {
     "name": "stdout",
     "output_type": "stream",
     "text": [
      "첫 번째 숫자를 입력하세요: 1\n",
      "두 번째 숫자를 입력하세요: 2\n",
      "12\n"
     ]
    }
   ],
   "source": [
    "a = input('첫 번째 숫자를 입력하세요: ')\n",
    "b = input('두 번째 숫자를 입력하세요: ')\n",
    "print(a + b)"
   ]
  },
  {
   "cell_type": "code",
   "execution_count": null,
   "id": "e8f0d13d",
   "metadata": {},
   "outputs": [],
   "source": [
    "왜 이런 결과가 나왔을까?\n",
    "input에서 입력받은 값은 항상 문자열 형태이기 때문에 그렇다.\n",
    "input과 split의 결과는 모두 문자열이 중요함 !!\n",
    "즉, input에서 입력받은 값은 항상 문자열 형태이기 때문이다.\n",
    "\n",
    "10과 20은 겉보기에는 숫자이지만, 실제로는 문자열 이므로 1과 2를 +로 연결하여 12가 나오게 된것.\n",
    "이럴땐?\n",
    "\n",
    "input의 결과를 변수에 저장한 뒤 type을 사용해보면 input의 결과가 문자열(str)이라는 것을 알 수 있다.\n"
   ]
  },
  {
   "cell_type": "code",
   "execution_count": 34,
   "id": "4129fc3c",
   "metadata": {},
   "outputs": [
    {
     "name": "stdout",
     "output_type": "stream",
     "text": [
      "10\n"
     ]
    }
   ],
   "source": [
    "a = input()"
   ]
  },
  {
   "cell_type": "code",
   "execution_count": 35,
   "id": "1b1261e9",
   "metadata": {},
   "outputs": [
    {
     "data": {
      "text/plain": [
       "str"
      ]
     },
     "execution_count": 35,
     "metadata": {},
     "output_type": "execute_result"
    }
   ],
   "source": [
    "type(a)"
   ]
  },
  {
   "cell_type": "code",
   "execution_count": null,
   "id": "fb6bcb2f",
   "metadata": {},
   "outputs": [],
   "source": [
    "6.3.4 입력 값을 정수로 변환하기\n",
    "\n",
    "변수 = int(input())\n",
    "변수 = int(input('문자열'))"
   ]
  },
  {
   "cell_type": "code",
   "execution_count": 37,
   "id": "33d64244",
   "metadata": {},
   "outputs": [
    {
     "name": "stdout",
     "output_type": "stream",
     "text": [
      "첫번째 숫자를 입력하세요: 1\n",
      "두번째 숫자를 입력하세요: 2\n",
      "3\n"
     ]
    }
   ],
   "source": [
    "c = int(input('첫번째 숫자를 입력하세요: ')) # int를 사용하여 입력 값을 정수로 변환\n",
    "d = int(input('두번째 숫자를 입력하세요: ')) # int를 사용하여 입력 값을 정수로 변환\n",
    "print(c+d)"
   ]
  },
  {
   "cell_type": "code",
   "execution_count": null,
   "id": "02c3f518",
   "metadata": {},
   "outputs": [],
   "source": [
    "6.4 입력 값을 변수 두 개에 저장하기\n",
    "\n",
    "input에서 split을 사용한 변수 여러 개에 저장해주면 됨.\n",
    "각 변수는 콤마로 구분해 줌.\n",
    "split은 분리하다, 나누다 라는 뜻.\n",
    "()입력 받은 값을 공백을 기준으로 분리.\n",
    "\n",
    "- 변수1, 변수2 = input().split()\n",
    "- 변수1, 변수2 = input().split('기준문자열')\n",
    "- 변수1, 변수2 = input('문자열').split()\n",
    "- 변수1, 변수2 = input('문자열').split('기준문자열')"
   ]
  },
  {
   "cell_type": "code",
   "execution_count": 41,
   "id": "f6037be0",
   "metadata": {},
   "outputs": [
    {
     "name": "stdout",
     "output_type": "stream",
     "text": [
      "문자열 두 개를 입력하세요: Hello Python\n",
      "Hello\n",
      "Python\n"
     ]
    }
   ],
   "source": [
    "a, b = input('문자열 두 개를 입력하세요: ').split() # 입력받은 값을 공백을 기준으로 분리\n",
    "\n",
    "print(a)\n",
    "print(b)\n",
    "\n",
    "a에는 Hello\n",
    "b에는 Python 저장 됨."
   ]
  },
  {
   "cell_type": "code",
   "execution_count": null,
   "id": "aa377b2b",
   "metadata": {},
   "outputs": [],
   "source": [
    "6.4.1 두 숫자의 합 구하기\n",
    "\n",
    "3이 나와야 하는데, 12 나옴.\n",
    "왜? input에서 입력 받은 값은 문자열이고, 이 문자열은 split으로 분리해도 문자열이기 때문.\n",
    "\n",
    "6.4.2 입력 값을 정수로 변환하기\n",
    "\n",
    "10+20의 결과가 30이 나오게 하려면 변수 a와 b를 정수로 변환 해줘야 함."
   ]
  },
  {
   "cell_type": "code",
   "execution_count": 42,
   "id": "b7f67caa",
   "metadata": {},
   "outputs": [
    {
     "name": "stdout",
     "output_type": "stream",
     "text": [
      "숫자 두 개를 입력하세요: 1 2\n",
      "12\n"
     ]
    }
   ],
   "source": [
    "a, b = input('숫자 두 개를 입력하세요: ').split()\n",
    "print(a+b)"
   ]
  },
  {
   "cell_type": "code",
   "execution_count": 43,
   "id": "104ab5ad",
   "metadata": {},
   "outputs": [
    {
     "name": "stdout",
     "output_type": "stream",
     "text": [
      "숫자 두 개를 입력하세요: 1 2\n",
      "3\n"
     ]
    }
   ],
   "source": [
    "a, b = input('숫자 두 개를 입력하세요: ').split() # 입력 받은 값을 공백을 기준으로 분리\n",
    "a = int(a) # 변수를 정수로 변환 한 뒤 다시 저장\n",
    "b = int(b)\n",
    "\n",
    "print(a+b)"
   ]
  },
  {
   "cell_type": "code",
   "execution_count": 44,
   "id": "7db795bd",
   "metadata": {},
   "outputs": [
    {
     "name": "stdout",
     "output_type": "stream",
     "text": [
      "숫자 두 개를 입력하세요: 1 2\n",
      "3\n"
     ]
    }
   ],
   "source": [
    "a, b = input('숫자 두 개를 입력하세요: ').split() # 입력 받은 값을 공백을 기준으로 분\n",
    "\n",
    "print(int(a)+int(b)) "
   ]
  },
  {
   "cell_type": "code",
   "execution_count": null,
   "id": "b88d679f",
   "metadata": {},
   "outputs": [],
   "source": [
    "6.4.3 map을 사용하여 정수로 변환하기\n",
    "\n",
    "split의 결과를 매번 int로 변환해주려니 귀찮습니다.\n",
    "이때는 map을 함께 사용하면 된다.\n",
    "map에 int와 input().split()을 넣으면 split의 결과를 모두 int로 변환해줍니다.\n",
    "실수로 변환할 때는 int 대신 float를 넣습니다.\n",
    "\n",
    "- 변수1, 변수2 = map(int, input().split())\n",
    "- 변수1, 변수2 = map(int, input().split('기준문자열'))\n",
    "- 변수1, 변수2 = map(int, input('문자열').split())\n",
    "- 변수1, 변수2 = map(int, input('문자열').split('기준문자열'))\n",
    "\n"
   ]
  },
  {
   "cell_type": "code",
   "execution_count": 45,
   "id": "eaa39ac4",
   "metadata": {},
   "outputs": [
    {
     "name": "stdout",
     "output_type": "stream",
     "text": [
      "숫자 두 개를 입력하세요: 3 6\n",
      "9\n"
     ]
    }
   ],
   "source": [
    "a, b = map(int, input('숫자 두 개를 입력하세요: ').split())\n",
    "print(a + b)"
   ]
  },
  {
   "cell_type": "code",
   "execution_count": 48,
   "id": "7dc7a2a7",
   "metadata": {},
   "outputs": [
    {
     "name": "stdout",
     "output_type": "stream",
     "text": [
      "숫자 두 개를 입력하세요: 3,6\n",
      "9\n"
     ]
    }
   ],
   "source": [
    "# 6.4.4 입력받은 값을 콤마를 기준으로 분리하기\n",
    "\n",
    "a, b = map(int, input('숫자 두 개를 입력하세요: ').split(',')) # 입력받은 값을 콤마를 기준으로 분리하기\n",
    "print(a + b)"
   ]
  },
  {
   "cell_type": "code",
   "execution_count": null,
   "id": "b93820e2",
   "metadata": {},
   "outputs": [],
   "source": [
    "input과 split의 결과가 모두 문자열이라는 점이 중요함 !!\n",
    "숫자 계산 시 -> int, float를 사용해서 결과를 숫자로 변환\n",
    "split의 결과를 모두 int, float로 변환할때는 map 사용 편리"
   ]
  },
  {
   "cell_type": "code",
   "execution_count": null,
   "id": "a21b3780",
   "metadata": {},
   "outputs": [],
   "source": [
    "6.7 심사문제: 변수 만들기\n",
    "    \n",
    "50\n",
    "100\n",
    "None\n"
   ]
  },
  {
   "cell_type": "code",
   "execution_count": 50,
   "id": "52970197",
   "metadata": {},
   "outputs": [
    {
     "name": "stdout",
     "output_type": "stream",
     "text": [
      "50\n",
      "100\n",
      "None\n"
     ]
    }
   ],
   "source": [
    "a = 50\n",
    "b = 100\n",
    "c = None\n",
    "\n",
    "print(a)\n",
    "print(b)\n",
    "print(c)"
   ]
  },
  {
   "cell_type": "code",
   "execution_count": null,
   "id": "dc80cd70",
   "metadata": {},
   "outputs": [],
   "source": [
    "6.8 심사문제: 평균 점수 구하기\n",
    "\n",
    "평균 점수를 출력하는 프로그램을 만들기. \n",
    "단, 평균 점수를 출력할 때는 소수점 이하 자리는 버립니다. (정수로 출력)\n",
    "\n",
    "표준 입력 국어, 영어, 수학, 과학 점수\n",
    "\n",
    "4과목\n",
    "\n",
    "83 92 87 90"
   ]
  },
  {
   "cell_type": "code",
   "execution_count": 58,
   "id": "43f0dd81",
   "metadata": {},
   "outputs": [
    {
     "name": "stdout",
     "output_type": "stream",
     "text": [
      "95 75 87  88\n",
      "86\n"
     ]
    }
   ],
   "source": [
    "a, b, c, d = map(int, input().split())\n",
    "\n",
    "print(int((a+b+c+d)/4))\n",
    "    \n",
    "    "
   ]
  },
  {
   "cell_type": "code",
   "execution_count": null,
   "id": "62be5c29",
   "metadata": {},
   "outputs": [],
   "source": []
  }
 ],
 "metadata": {
  "kernelspec": {
   "display_name": "Python 3",
   "language": "python",
   "name": "python3"
  },
  "language_info": {
   "codemirror_mode": {
    "name": "ipython",
    "version": 3
   },
   "file_extension": ".py",
   "mimetype": "text/x-python",
   "name": "python",
   "nbconvert_exporter": "python",
   "pygments_lexer": "ipython3",
   "version": "3.8.8"
  }
 },
 "nbformat": 4,
 "nbformat_minor": 5
}
